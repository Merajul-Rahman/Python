{
  "nbformat": 4,
  "nbformat_minor": 0,
  "metadata": {
    "colab": {
      "provenance": [],
      "authorship_tag": "ABX9TyNVtXZngK3rSg9napI4nbfP",
      "include_colab_link": true
    },
    "kernelspec": {
      "name": "python3",
      "display_name": "Python 3"
    },
    "language_info": {
      "name": "python"
    }
  },
  "cells": [
    {
      "cell_type": "markdown",
      "metadata": {
        "id": "view-in-github",
        "colab_type": "text"
      },
      "source": [
        "<a href=\"https://colab.research.google.com/github/Merajul-Rahman/Python/blob/main/Python_Built_in_Functions.ipynb\" target=\"_parent\"><img src=\"https://colab.research.google.com/assets/colab-badge.svg\" alt=\"Open In Colab\"/></a>"
      ]
    },
    {
      "cell_type": "code",
      "source": [
        "a1 = ['foo', 'bar', 'baz', 'qux']\n",
        "a2 = [True, False, False]\n",
        "a3 = [1,2,3,4,5,6]\n",
        "a4 = [True, True, True]\n",
        "a5 = [False, False, False]"
      ],
      "metadata": {
        "id": "pZp2Qw7p7fhX"
      },
      "execution_count": null,
      "outputs": []
    },
    {
      "cell_type": "markdown",
      "source": [
        "## A\n"
      ],
      "metadata": {
        "id": "whmxL7g_6hy2"
      }
    },
    {
      "cell_type": "code",
      "execution_count": null,
      "metadata": {
        "colab": {
          "base_uri": "https://localhost:8080/"
        },
        "id": "GVVK9UBI6cO3",
        "outputId": "f31f4ef9-840c-4066-e5ae-949deb4afd8d"
      },
      "outputs": [
        {
          "output_type": "stream",
          "name": "stdout",
          "text": [
            "5.5\n",
            "8.6\n"
          ]
        }
      ],
      "source": [
        "#abs(x) returns absolute value of x\n",
        "print(abs(5.5))\n",
        "print(abs(-8.6))"
      ]
    },
    {
      "cell_type": "code",
      "source": [
        "aiter(async iterable)"
      ],
      "metadata": {
        "id": "ZwP0tSJ67B45"
      },
      "execution_count": null,
      "outputs": []
    },
    {
      "cell_type": "code",
      "source": [
        "all(a1)\n",
        "all(a2) #if all values are true then return true."
      ],
      "metadata": {
        "colab": {
          "base_uri": "https://localhost:8080/"
        },
        "id": "XmPCAuF184CG",
        "outputId": "d5f9ef6f-0fde-4fbb-9934-32fe597b3b53"
      },
      "execution_count": null,
      "outputs": [
        {
          "output_type": "execute_result",
          "data": {
            "text/plain": [
              "False"
            ]
          },
          "metadata": {},
          "execution_count": 11
        }
      ]
    },
    {
      "cell_type": "code",
      "source": [
        "anext(async_iterator, default)"
      ],
      "metadata": {
        "id": "MUWCzAws9DlI"
      },
      "execution_count": null,
      "outputs": []
    },
    {
      "cell_type": "code",
      "source": [
        "any(a2) #return true if any value is true."
      ],
      "metadata": {
        "colab": {
          "base_uri": "https://localhost:8080/"
        },
        "id": "EcOc_o9B9O2d",
        "outputId": "63a43d40-f4dc-482b-c1e0-e0d89b64b11a"
      },
      "execution_count": null,
      "outputs": [
        {
          "output_type": "execute_result",
          "data": {
            "text/plain": [
              "True"
            ]
          },
          "metadata": {},
          "execution_count": 12
        }
      ]
    },
    {
      "cell_type": "code",
      "source": [
        "ascii('abcd') #returns the ascii of the given object"
      ],
      "metadata": {
        "colab": {
          "base_uri": "https://localhost:8080/",
          "height": 36
        },
        "id": "oVdSrUyr9kTi",
        "outputId": "b051f3a3-0d2f-4627-c949-ea4c8cd7dfc6"
      },
      "execution_count": null,
      "outputs": [
        {
          "output_type": "execute_result",
          "data": {
            "text/plain": [
              "\"'abcd'\""
            ],
            "application/vnd.google.colaboratory.intrinsic+json": {
              "type": "string"
            }
          },
          "metadata": {},
          "execution_count": 16
        }
      ]
    },
    {
      "cell_type": "markdown",
      "source": [
        "## B"
      ],
      "metadata": {
        "id": "x19meYkV9xo0"
      }
    },
    {
      "cell_type": "code",
      "source": [
        "print(bin(10)) #returns binary of an integer"
      ],
      "metadata": {
        "colab": {
          "base_uri": "https://localhost:8080/"
        },
        "id": "dW0bLl4e907F",
        "outputId": "f595bb5d-974f-45f1-d92d-52c4f5a5f2f2"
      },
      "execution_count": null,
      "outputs": [
        {
          "output_type": "stream",
          "name": "stdout",
          "text": [
            "0b1010\n"
          ]
        }
      ]
    },
    {
      "cell_type": "code",
      "source": [
        "print(bool(0)) #returns true if value is true\n",
        "print(bool(1))\n",
        "print(bool(''))\n",
        "print(bool('abc'))"
      ],
      "metadata": {
        "colab": {
          "base_uri": "https://localhost:8080/"
        },
        "id": "p5qQYxMx9-eu",
        "outputId": "340caabd-c745-4e51-e3c5-90652f2b7850"
      },
      "execution_count": null,
      "outputs": [
        {
          "output_type": "stream",
          "name": "stdout",
          "text": [
            "False\n",
            "True\n",
            "False\n",
            "True\n"
          ]
        }
      ]
    },
    {
      "cell_type": "code",
      "source": [
        "breakpoint() #used for debugging"
      ],
      "metadata": {
        "colab": {
          "base_uri": "https://localhost:8080/"
        },
        "id": "qIjW752a_wT_",
        "outputId": "8d7c7a9e-fc6c-4bab-b7c0-34ea0ba017e1"
      },
      "execution_count": null,
      "outputs": [
        {
          "output_type": "stream",
          "name": "stderr",
          "text": [
            "\n",
            "PYDEV DEBUGGER WARNING:\n",
            "sys.settrace() should not be used when the debugger is being used.\n",
            "This may cause the debugger to stop working correctly.\n",
            "If this is needed, please check: \n",
            "http://pydev.blogspot.com/2007/06/why-cant-pydev-debugger-work-with.html\n",
            "to see how to restore the debug tracing back correctly.\n",
            "Call Location:\n",
            "  File \"/usr/lib/python3.10/bdb.py\", line 336, in set_trace\n",
            "    sys.settrace(self.trace_dispatch)\n",
            "\n"
          ]
        },
        {
          "output_type": "stream",
          "name": "stdout",
          "text": [
            "--Call--\n",
            "> \u001b[0;32m/usr/local/lib/python3.10/dist-packages/IPython/core/displayhook.py\u001b[0m(252)\u001b[0;36m__call__\u001b[0;34m()\u001b[0m\n",
            "\u001b[0;32m    250 \u001b[0;31m        \u001b[0msys\u001b[0m\u001b[0;34m.\u001b[0m\u001b[0mstdout\u001b[0m\u001b[0;34m.\u001b[0m\u001b[0mflush\u001b[0m\u001b[0;34m(\u001b[0m\u001b[0;34m)\u001b[0m\u001b[0;34m\u001b[0m\u001b[0;34m\u001b[0m\u001b[0m\n",
            "\u001b[0m\u001b[0;32m    251 \u001b[0;31m\u001b[0;34m\u001b[0m\u001b[0m\n",
            "\u001b[0m\u001b[0;32m--> 252 \u001b[0;31m    \u001b[0;32mdef\u001b[0m \u001b[0m__call__\u001b[0m\u001b[0;34m(\u001b[0m\u001b[0mself\u001b[0m\u001b[0;34m,\u001b[0m \u001b[0mresult\u001b[0m\u001b[0;34m=\u001b[0m\u001b[0;32mNone\u001b[0m\u001b[0;34m)\u001b[0m\u001b[0;34m:\u001b[0m\u001b[0;34m\u001b[0m\u001b[0;34m\u001b[0m\u001b[0m\n",
            "\u001b[0m\u001b[0;32m    253 \u001b[0;31m        \"\"\"Printing with history cache management.\n",
            "\u001b[0m\u001b[0;32m    254 \u001b[0;31m\u001b[0;34m\u001b[0m\u001b[0m\n",
            "\u001b[0m\n",
            "ipdb> 1\n",
            "1\n",
            "ipdb> 2\n",
            "2\n",
            "ipdb> 5\n",
            "5\n",
            "ipdb> 888\n",
            "888\n",
            "ipdb> fesedfgvh\n",
            "*** NameError: name 'fesedfgvh' is not defined\n",
            "ipdb> 5\n",
            "5\n",
            "ipdb> 401\n",
            "401\n",
            "ipdb> 404\n",
            "404\n",
            "ipdb> 0\n",
            "0\n",
            "ipdb> esc\n",
            "*** NameError: name 'esc' is not defined\n",
            "ipdb> a1\n",
            "*** NameError: name 'a1' is not defined\n"
          ]
        },
        {
          "output_type": "stream",
          "name": "stderr",
          "text": [
            "\n",
            "PYDEV DEBUGGER WARNING:\n",
            "sys.settrace() should not be used when the debugger is being used.\n",
            "This may cause the debugger to stop working correctly.\n",
            "If this is needed, please check: \n",
            "http://pydev.blogspot.com/2007/06/why-cant-pydev-debugger-work-with.html\n",
            "to see how to restore the debug tracing back correctly.\n",
            "Call Location:\n",
            "  File \"/usr/lib/python3.10/bdb.py\", line 361, in set_quit\n",
            "    sys.settrace(None)\n",
            "\n",
            "\n",
            "PYDEV DEBUGGER WARNING:\n",
            "sys.settrace() should not be used when the debugger is being used.\n",
            "This may cause the debugger to stop working correctly.\n",
            "If this is needed, please check: \n",
            "http://pydev.blogspot.com/2007/06/why-cant-pydev-debugger-work-with.html\n",
            "to see how to restore the debug tracing back correctly.\n",
            "Call Location:\n",
            "  File \"/usr/local/lib/python3.10/dist-packages/IPython/core/debugger.py\", line 1075, in cmdloop\n",
            "    sys.settrace(None)\n",
            "\n"
          ]
        },
        {
          "name": "stdout",
          "output_type": "stream",
          "text": [
            "--KeyboardInterrupt--\n",
            "\n",
            "KeyboardInterrupt: Interrupted by user\n",
            "ipdb> 5\n"
          ]
        }
      ]
    },
    {
      "cell_type": "code",
      "source": [
        "#bytearray(source, encoding, errors)\n",
        "bytearray(5)"
      ],
      "metadata": {
        "colab": {
          "base_uri": "https://localhost:8080/"
        },
        "id": "QB4OBhc5DCnL",
        "outputId": "dfa680cf-c959-4a1c-c680-5c144edae3ed"
      },
      "execution_count": null,
      "outputs": [
        {
          "output_type": "execute_result",
          "data": {
            "text/plain": [
              "bytearray(b'\\x00\\x00\\x00\\x00\\x00')"
            ]
          },
          "metadata": {},
          "execution_count": 26
        }
      ]
    },
    {
      "cell_type": "code",
      "source": [
        "bytes('1', 'utf-8', 'strict')\n",
        "bytes(5)"
      ],
      "metadata": {
        "colab": {
          "base_uri": "https://localhost:8080/"
        },
        "id": "AbGUTW6FrBHn",
        "outputId": "7d2abdb6-d309-4ca8-fd66-c241d1da3f22"
      },
      "execution_count": null,
      "outputs": [
        {
          "output_type": "execute_result",
          "data": {
            "text/plain": [
              "b'\\x00\\x00\\x00\\x00\\x00'"
            ]
          },
          "metadata": {},
          "execution_count": 8
        }
      ]
    },
    {
      "cell_type": "markdown",
      "source": [
        "## C"
      ],
      "metadata": {
        "id": "D3P43zeIt2Ja"
      }
    },
    {
      "cell_type": "code",
      "source": [
        "#callable(object)\n",
        "print(callable(a1)) #True is object is callabe. classes are callabe, instances are callabe if class has __call__()\n",
        "print(callable(int))\n"
      ],
      "metadata": {
        "colab": {
          "base_uri": "https://localhost:8080/"
        },
        "id": "8m1U-Hq5t1Sy",
        "outputId": "c5c18303-f714-48fa-9355-fac85ecdf53e"
      },
      "execution_count": null,
      "outputs": [
        {
          "output_type": "stream",
          "name": "stdout",
          "text": [
            "False\n",
            "True\n"
          ]
        }
      ]
    },
    {
      "cell_type": "code",
      "source": [
        "print(chr(100)) #returns character of given integer\n",
        "print(chr(65))\n",
        "print(chr(97))"
      ],
      "metadata": {
        "colab": {
          "base_uri": "https://localhost:8080/"
        },
        "id": "2E7w98NWupay",
        "outputId": "49ac4957-d30e-49d2-d772-e4caa4e49406"
      },
      "execution_count": null,
      "outputs": [
        {
          "output_type": "stream",
          "name": "stdout",
          "text": [
            "d\n",
            "A\n",
            "a\n"
          ]
        }
      ]
    },
    {
      "cell_type": "code",
      "source": [
        "# @classmethod Transform a method into a class method.\n",
        "\n",
        "#compile(source, filename, mode, flags=0, dont_inherit=False, optimize=-1)"
      ],
      "metadata": {
        "id": "Ra3wvgO0vl-q"
      },
      "execution_count": null,
      "outputs": []
    },
    {
      "cell_type": "code",
      "source": [
        "# class complex(number=0, /)\n",
        "# class complex(string, /)\n",
        "# class complex(real=0, imag=0)\n",
        "print(complex(1.5))\n",
        "print(complex(-1j))\n",
        "print(complex(1,-2))\n",
        "print(complex('1+2j'))"
      ],
      "metadata": {
        "colab": {
          "base_uri": "https://localhost:8080/"
        },
        "id": "WJRRF9wMv4jv",
        "outputId": "31312fd7-086c-4cd3-823c-74c869093028"
      },
      "execution_count": null,
      "outputs": [
        {
          "output_type": "stream",
          "name": "stdout",
          "text": [
            "(1.5+0j)\n",
            "(-0-1j)\n",
            "(1-2j)\n",
            "(1+2j)\n"
          ]
        }
      ]
    },
    {
      "cell_type": "markdown",
      "source": [
        "## D"
      ],
      "metadata": {
        "id": "CSm7dNfQwecN"
      }
    },
    {
      "cell_type": "code",
      "source": [
        "# delattr(object, name) object er name attribute er value delete kore.\n",
        "# class dict(**kwarg)\n",
        "# class dict(mapping, **kwarg)\n",
        "# class dict(iterable, **kwarg)"
      ],
      "metadata": {
        "id": "Aqv7Ras9wgKj"
      },
      "execution_count": null,
      "outputs": []
    },
    {
      "cell_type": "code",
      "source": [
        "print(dir())\n",
        "print(dir(a1))\n",
        "# Without arguments, return the list of names in the current local scope. With an argument, attempt to return a list of valid attributes for that object."
      ],
      "metadata": {
        "colab": {
          "base_uri": "https://localhost:8080/"
        },
        "id": "ldfmf1XR0Q_O",
        "outputId": "7b423098-e554-4c5b-b6a2-0ffa34503910"
      },
      "execution_count": null,
      "outputs": [
        {
          "output_type": "stream",
          "name": "stdout",
          "text": [
            "['In', 'Out', '_', '_1', '_12', '_13', '_2', '_27', '_5', '_6', '_7', '_8', '__', '___', '__builtin__', '__builtins__', '__doc__', '__loader__', '__name__', '__package__', '__spec__', '_dh', '_i', '_i1', '_i10', '_i11', '_i12', '_i13', '_i14', '_i15', '_i16', '_i17', '_i18', '_i19', '_i2', '_i20', '_i21', '_i22', '_i23', '_i24', '_i25', '_i26', '_i27', '_i28', '_i3', '_i4', '_i5', '_i6', '_i7', '_i8', '_i9', '_ih', '_ii', '_iii', '_oh', 'a1', 'a2', 'a3', 'a4', 'a5', 'exit', 'get_ipython', 'quit']\n",
            "['__add__', '__class__', '__class_getitem__', '__contains__', '__delattr__', '__delitem__', '__dir__', '__doc__', '__eq__', '__format__', '__ge__', '__getattribute__', '__getitem__', '__gt__', '__hash__', '__iadd__', '__imul__', '__init__', '__init_subclass__', '__iter__', '__le__', '__len__', '__lt__', '__mul__', '__ne__', '__new__', '__reduce__', '__reduce_ex__', '__repr__', '__reversed__', '__rmul__', '__setattr__', '__setitem__', '__sizeof__', '__str__', '__subclasshook__', 'append', 'clear', 'copy', 'count', 'extend', 'index', 'insert', 'pop', 'remove', 'reverse', 'sort']\n"
          ]
        }
      ]
    },
    {
      "cell_type": "code",
      "source": [
        "print(divmod(4,2)) #returns quotient and remainder\n",
        "print(divmod(5,2))"
      ],
      "metadata": {
        "colab": {
          "base_uri": "https://localhost:8080/"
        },
        "id": "FKzGXNH-0ngv",
        "outputId": "10f0889e-d8ac-4c74-80ed-4c5eb667cecd"
      },
      "execution_count": null,
      "outputs": [
        {
          "output_type": "stream",
          "name": "stdout",
          "text": [
            "(2, 0)\n",
            "(2, 1)\n"
          ]
        }
      ]
    },
    {
      "cell_type": "markdown",
      "source": [
        "## E"
      ],
      "metadata": {
        "id": "AzA7t-Nm06Hg"
      }
    },
    {
      "cell_type": "code",
      "source": [
        "for i,j in enumerate(a1,0):\n",
        "  print(i,j)"
      ],
      "metadata": {
        "colab": {
          "base_uri": "https://localhost:8080/"
        },
        "id": "klj4W_Hr08kY",
        "outputId": "2a2f963e-6fb9-424b-d34f-9b9989887244"
      },
      "execution_count": null,
      "outputs": [
        {
          "output_type": "stream",
          "name": "stdout",
          "text": [
            "0 foo\n",
            "1 bar\n",
            "2 baz\n",
            "3 qux\n"
          ]
        }
      ]
    },
    {
      "cell_type": "code",
      "source": [
        "eval('print(\"Hello World\")')\n",
        "print(eval('2+3'))\n",
        "print(eval('a1'))\n"
      ],
      "metadata": {
        "colab": {
          "base_uri": "https://localhost:8080/"
        },
        "id": "vv5HiL1B1K73",
        "outputId": "e67114c8-9ff3-4281-82b1-264000b53c90"
      },
      "execution_count": null,
      "outputs": [
        {
          "output_type": "stream",
          "name": "stdout",
          "text": [
            "Hello World\n",
            "5\n",
            "['foo', 'bar', 'baz', 'qux']\n"
          ]
        }
      ]
    },
    {
      "cell_type": "code",
      "source": [
        "exec('print(\"Hello World\")')\n",
        "# exec(source, /, globals=None, locals=None, *, closure=None)\n",
        "# Warning This function executes arbitrary code. Calling it with user-supplied input may lead to security vulnerabilities."
      ],
      "metadata": {
        "colab": {
          "base_uri": "https://localhost:8080/"
        },
        "id": "NZIk6wZZ2Bcj",
        "outputId": "a52b77fd-c727-40e2-ac8b-20aed1797848"
      },
      "execution_count": null,
      "outputs": [
        {
          "output_type": "stream",
          "name": "stdout",
          "text": [
            "Hello World\n"
          ]
        }
      ]
    },
    {
      "cell_type": "markdown",
      "source": [
        "## F"
      ],
      "metadata": {
        "id": "Vng-6bnhaW6p"
      }
    },
    {
      "cell_type": "code",
      "source": [
        "# filter(function,iterable) returns the values from iterable for which function is true.\n",
        "print(filter(lambda x:x>2,a3))"
      ],
      "metadata": {
        "colab": {
          "base_uri": "https://localhost:8080/"
        },
        "id": "fC4fq47ZaYkm",
        "outputId": "e33154bf-58be-40b6-ce31-da12164885d1"
      },
      "execution_count": null,
      "outputs": [
        {
          "output_type": "stream",
          "name": "stdout",
          "text": [
            "<filter object at 0x7c96b21b1fc0>\n"
          ]
        }
      ]
    },
    {
      "cell_type": "code",
      "source": [
        "print(float(5))\n",
        "print(float('+1.23'))\n",
        "\n",
        "print(float('   -12345\\n'))\n",
        "print(float('1e-003'))\n",
        "\n",
        "print(float('+1E6'))\n",
        "\n",
        "print(float('-Infinity'))"
      ],
      "metadata": {
        "colab": {
          "base_uri": "https://localhost:8080/"
        },
        "id": "Bs7qn2FLa6lU",
        "outputId": "3f3c848a-705d-4b12-bf6e-bfc4c098dfc4"
      },
      "execution_count": null,
      "outputs": [
        {
          "output_type": "stream",
          "name": "stdout",
          "text": [
            "5.0\n",
            "1.23\n",
            "-12345.0\n",
            "0.001\n",
            "1000000.0\n",
            "-inf\n"
          ]
        }
      ]
    },
    {
      "cell_type": "code",
      "source": [
        "txt = \"For only {price:.2f} dollars {x:} cents'!\"\n",
        "print(txt.format(price = 49,x=4))"
      ],
      "metadata": {
        "colab": {
          "base_uri": "https://localhost:8080/"
        },
        "id": "ehWYP24AbO2q",
        "outputId": "a566d8d1-fa1a-4f47-f01b-75f70fd1bc59"
      },
      "execution_count": null,
      "outputs": [
        {
          "output_type": "stream",
          "name": "stdout",
          "text": [
            "For only 49.00 dollars 4 cents'!\n"
          ]
        }
      ]
    },
    {
      "cell_type": "code",
      "source": [
        "#Freeze the list, and make it unchangeable:\n",
        "mylist = ['apple', 'banana', 'cherry']\n",
        "x = frozenset(mylist)\n",
        "print(x)"
      ],
      "metadata": {
        "colab": {
          "base_uri": "https://localhost:8080/"
        },
        "id": "6eJEoKBSgfnN",
        "outputId": "aa5a6daf-988c-4dff-a7d5-dc663fc8f521"
      },
      "execution_count": null,
      "outputs": [
        {
          "output_type": "stream",
          "name": "stdout",
          "text": [
            "frozenset({'apple', 'banana', 'cherry'})\n"
          ]
        }
      ]
    },
    {
      "cell_type": "markdown",
      "source": [
        "## G"
      ],
      "metadata": {
        "id": "EF0oiKxJh4E_"
      }
    },
    {
      "cell_type": "code",
      "source": [
        "# getattr(object, attribute, default)\n",
        "class Person:\n",
        "  name = \"John\"\n",
        "  age = 36\n",
        "  country = \"Norway\"\n",
        "\n",
        "x = getattr(Person, 'age', 'my message') # jodi attribute a value thake taile oita nibe naile default ta nibe\n",
        "print(x)\n",
        "\n",
        "x = getattr(Person, 'page', 'my message') # jodi attribute a value thake taile oita nibe naile default ta nibe\n",
        "print(x)\n",
        "\n",
        "x = getattr(Person, 'page') # jodi attribute a value thake taile oita nibe naile default ta nibe\n",
        "print(x)"
      ],
      "metadata": {
        "colab": {
          "base_uri": "https://localhost:8080/",
          "height": 228
        },
        "id": "4DybREQdgtRj",
        "outputId": "e3306024-3c9f-4cd8-e862-b0540255efcf"
      },
      "execution_count": null,
      "outputs": [
        {
          "output_type": "stream",
          "name": "stdout",
          "text": [
            "36\n",
            "my message\n"
          ]
        },
        {
          "output_type": "error",
          "ename": "AttributeError",
          "evalue": "type object 'Person' has no attribute 'page'",
          "traceback": [
            "\u001b[0;31m---------------------------------------------------------------------------\u001b[0m",
            "\u001b[0;31mAttributeError\u001b[0m                            Traceback (most recent call last)",
            "\u001b[0;32m<ipython-input-23-50c08fda4376>\u001b[0m in \u001b[0;36m<cell line: 13>\u001b[0;34m()\u001b[0m\n\u001b[1;32m     11\u001b[0m \u001b[0mprint\u001b[0m\u001b[0;34m(\u001b[0m\u001b[0mx\u001b[0m\u001b[0;34m)\u001b[0m\u001b[0;34m\u001b[0m\u001b[0;34m\u001b[0m\u001b[0m\n\u001b[1;32m     12\u001b[0m \u001b[0;34m\u001b[0m\u001b[0m\n\u001b[0;32m---> 13\u001b[0;31m \u001b[0mx\u001b[0m \u001b[0;34m=\u001b[0m \u001b[0mgetattr\u001b[0m\u001b[0;34m(\u001b[0m\u001b[0mPerson\u001b[0m\u001b[0;34m,\u001b[0m \u001b[0;34m'page'\u001b[0m\u001b[0;34m)\u001b[0m \u001b[0;31m# jodi attribute a value thake taile oita nibe naile default ta nibe\u001b[0m\u001b[0;34m\u001b[0m\u001b[0;34m\u001b[0m\u001b[0m\n\u001b[0m\u001b[1;32m     14\u001b[0m \u001b[0mprint\u001b[0m\u001b[0;34m(\u001b[0m\u001b[0mx\u001b[0m\u001b[0;34m)\u001b[0m\u001b[0;34m\u001b[0m\u001b[0;34m\u001b[0m\u001b[0m\n",
            "\u001b[0;31mAttributeError\u001b[0m: type object 'Person' has no attribute 'page'"
          ]
        }
      ]
    },
    {
      "cell_type": "code",
      "source": [
        "x = globals()\n",
        "print(x)\n",
        "# Python3 program to demonstrate global() function\n",
        "# global variable\n",
        "a = 5\n",
        "\n",
        "def func():\n",
        "\tc = 10\n",
        "\td = c + a\n",
        "\n",
        "\t# Calling globals()\n",
        "\tglobals()['a'] = d\n",
        "\tprint (a)\n",
        "\n",
        "# Driver Code\n",
        "func()\n"
      ],
      "metadata": {
        "colab": {
          "base_uri": "https://localhost:8080/"
        },
        "id": "FOQLZ6UghyDY",
        "outputId": "f4bbb80f-6db9-4e34-f762-982c993ecabe"
      },
      "execution_count": null,
      "outputs": [
        {
          "output_type": "stream",
          "name": "stdout",
          "text": [
            "{'__name__': '__main__', '__doc__': 'Automatically created module for IPython interactive environment', '__package__': None, '__loader__': None, '__spec__': None, '__builtin__': <module 'builtins' (built-in)>, '__builtins__': <module 'builtins' (built-in)>, '_ih': ['', \"a1 = ['foo', 'bar', 'baz', 'qux']\\na2 = [True, False, False]\\na3 = [1,2,3,4,5,6]\\na4 = [True, True, True]\\na5 = [False, False, False]\", '# filter(function,iterable) returns the values from iterable for which function is true.\\nfilter(lambda x:x>2,a3)', '# filter(function,iterable) returns the values from iterable for which function is true.\\nprint(filter(lambda x:x>2,a3))', 'float(5)', \"print(float(5))\\nprint(float('+1.23'))\\n\\nprint(float('   -12345\\\\n'))\\nprint(float('1e-003'))\\n\\nprint(float('+1E6'))\\n\\nprint(float('-Infinity'))\", \"format(print('hello',i),1)\", \"format(print('hello',1),1)\", \"format(print('hello',1),'1')\", 'txt = \"For only {price:.2f} dollars!\"\\nprint(txt.format(price = 49))', 'txt = \"For only {price:.2f} dollars {x:} cents\\'!\"\\nprint(txt.format(price = 49,x=4))', 'txt = \"For only {price:.2f} dollars {x:} cents\\'!\"\\nprint(txt.format(49,4))', 'txt = \"For only {price:.2f} dollars {x:} cents\\'!\"\\nprint(txt.format(price = 49,x=4))', \"mylist = ['apple', 'banana', 'cherry']\\nx = frozenset(mylist)\", \"mylist = ['apple', 'banana', 'cherry']\\nx = frozenset(mylist)\\nprint(X)\", \"mylist = ['apple', 'banana', 'cherry']\\nx = frozenset(mylist)\\nprint(x)\", '# getattr(object, attribute, default)\\nclass Person:\\n  name = \"John\"\\n  age = 36\\n  country = \"Norway\"\\n\\nx = getattr(Person, \\'page\\', \\'my message\\')', '# getattr(object, attribute, default)\\nclass Person:\\n  name = \"John\"\\n  age = 36\\n  country = \"Norway\"\\n\\nx = getattr(Person, \\'page\\', \\'my message\\')\\nprint(x)', '# getattr(object, attribute, default)\\nclass Person:\\n  name = \"John\"\\n  age = 36\\n  country = \"Norway\"\\n\\nx = getattr(Person, \\'country\\', \\'my message\\')\\nprint(x)', '# getattr(object, attribute, default)\\nclass Person:\\n  name = \"John\"\\n  age = 36\\n  country = \"Norway\"\\n\\nx = getattr(Person, \\'s\\', \\'my message\\')\\nprint(x)', '# getattr(object, attribute, default)\\nclass Person:\\n  name = \"John\"\\n  age = 36\\n  country = \"Norway\"\\n\\nx = getattr(Person, \\'s\\', \\'my message\\')\\nprint(x.s)', '# getattr(object, attribute, default)\\nclass Person:\\n  name = \"John\"\\n  age = 36\\n  country = \"Norway\"\\n\\nx = getattr(Person, \\'age\\', \\'my message\\') # jodi attribute a value thake taile oita nibe naile default ta nibe\\nprint(x)\\n\\nx = getattr(Person, \\'age\\', \\'my message\\') # jodi attribute a value thake taile oita nibe naile default ta nibe\\nprint(x)', '# getattr(object, attribute, default)\\nclass Person:\\n  name = \"John\"\\n  age = 36\\n  country = \"Norway\"\\n\\nx = getattr(Person, \\'age\\', \\'my message\\') # jodi attribute a value thake taile oita nibe naile default ta nibe\\nprint(x)\\n\\nx = getattr(Person, \\'page\\') # jodi attribute a value thake taile oita nibe naile default ta nibe\\nprint(x)', '# getattr(object, attribute, default)\\nclass Person:\\n  name = \"John\"\\n  age = 36\\n  country = \"Norway\"\\n\\nx = getattr(Person, \\'age\\', \\'my message\\') # jodi attribute a value thake taile oita nibe naile default ta nibe\\nprint(x)\\n\\nx = getattr(Person, \\'page\\', \\'my message\\') # jodi attribute a value thake taile oita nibe naile default ta nibe\\nprint(x)\\n\\nx = getattr(Person, \\'page\\') # jodi attribute a value thake taile oita nibe naile default ta nibe\\nprint(x)', 'x = globals()\\nprint(x)', \"x = globals()\\nprint(x)\\n# Python3 program to demonstrate global() function\\n# global variable\\na = 5\\n\\ndef func():\\n\\tc = 10\\n\\td = c + a\\n\\t\\n\\t# Calling globals()\\n\\tglobals()['a'] = d\\n\\tprint (a)\\n\\t\\n# Driver Code \\nfunc()\"], '_oh': {2: <filter object at 0x7c96b210ed40>, 4: 5.0}, '_dh': ['/content'], 'In': ['', \"a1 = ['foo', 'bar', 'baz', 'qux']\\na2 = [True, False, False]\\na3 = [1,2,3,4,5,6]\\na4 = [True, True, True]\\na5 = [False, False, False]\", '# filter(function,iterable) returns the values from iterable for which function is true.\\nfilter(lambda x:x>2,a3)', '# filter(function,iterable) returns the values from iterable for which function is true.\\nprint(filter(lambda x:x>2,a3))', 'float(5)', \"print(float(5))\\nprint(float('+1.23'))\\n\\nprint(float('   -12345\\\\n'))\\nprint(float('1e-003'))\\n\\nprint(float('+1E6'))\\n\\nprint(float('-Infinity'))\", \"format(print('hello',i),1)\", \"format(print('hello',1),1)\", \"format(print('hello',1),'1')\", 'txt = \"For only {price:.2f} dollars!\"\\nprint(txt.format(price = 49))', 'txt = \"For only {price:.2f} dollars {x:} cents\\'!\"\\nprint(txt.format(price = 49,x=4))', 'txt = \"For only {price:.2f} dollars {x:} cents\\'!\"\\nprint(txt.format(49,4))', 'txt = \"For only {price:.2f} dollars {x:} cents\\'!\"\\nprint(txt.format(price = 49,x=4))', \"mylist = ['apple', 'banana', 'cherry']\\nx = frozenset(mylist)\", \"mylist = ['apple', 'banana', 'cherry']\\nx = frozenset(mylist)\\nprint(X)\", \"mylist = ['apple', 'banana', 'cherry']\\nx = frozenset(mylist)\\nprint(x)\", '# getattr(object, attribute, default)\\nclass Person:\\n  name = \"John\"\\n  age = 36\\n  country = \"Norway\"\\n\\nx = getattr(Person, \\'page\\', \\'my message\\')', '# getattr(object, attribute, default)\\nclass Person:\\n  name = \"John\"\\n  age = 36\\n  country = \"Norway\"\\n\\nx = getattr(Person, \\'page\\', \\'my message\\')\\nprint(x)', '# getattr(object, attribute, default)\\nclass Person:\\n  name = \"John\"\\n  age = 36\\n  country = \"Norway\"\\n\\nx = getattr(Person, \\'country\\', \\'my message\\')\\nprint(x)', '# getattr(object, attribute, default)\\nclass Person:\\n  name = \"John\"\\n  age = 36\\n  country = \"Norway\"\\n\\nx = getattr(Person, \\'s\\', \\'my message\\')\\nprint(x)', '# getattr(object, attribute, default)\\nclass Person:\\n  name = \"John\"\\n  age = 36\\n  country = \"Norway\"\\n\\nx = getattr(Person, \\'s\\', \\'my message\\')\\nprint(x.s)', '# getattr(object, attribute, default)\\nclass Person:\\n  name = \"John\"\\n  age = 36\\n  country = \"Norway\"\\n\\nx = getattr(Person, \\'age\\', \\'my message\\') # jodi attribute a value thake taile oita nibe naile default ta nibe\\nprint(x)\\n\\nx = getattr(Person, \\'age\\', \\'my message\\') # jodi attribute a value thake taile oita nibe naile default ta nibe\\nprint(x)', '# getattr(object, attribute, default)\\nclass Person:\\n  name = \"John\"\\n  age = 36\\n  country = \"Norway\"\\n\\nx = getattr(Person, \\'age\\', \\'my message\\') # jodi attribute a value thake taile oita nibe naile default ta nibe\\nprint(x)\\n\\nx = getattr(Person, \\'page\\') # jodi attribute a value thake taile oita nibe naile default ta nibe\\nprint(x)', '# getattr(object, attribute, default)\\nclass Person:\\n  name = \"John\"\\n  age = 36\\n  country = \"Norway\"\\n\\nx = getattr(Person, \\'age\\', \\'my message\\') # jodi attribute a value thake taile oita nibe naile default ta nibe\\nprint(x)\\n\\nx = getattr(Person, \\'page\\', \\'my message\\') # jodi attribute a value thake taile oita nibe naile default ta nibe\\nprint(x)\\n\\nx = getattr(Person, \\'page\\') # jodi attribute a value thake taile oita nibe naile default ta nibe\\nprint(x)', 'x = globals()\\nprint(x)', \"x = globals()\\nprint(x)\\n# Python3 program to demonstrate global() function\\n# global variable\\na = 5\\n\\ndef func():\\n\\tc = 10\\n\\td = c + a\\n\\t\\n\\t# Calling globals()\\n\\tglobals()['a'] = d\\n\\tprint (a)\\n\\t\\n# Driver Code \\nfunc()\"], 'Out': {2: <filter object at 0x7c96b210ed40>, 4: 5.0}, 'get_ipython': <bound method InteractiveShell.get_ipython of <google.colab._shell.Shell object at 0x7c96c315e1d0>>, 'exit': <IPython.core.autocall.ZMQExitAutocall object at 0x7c96c315ebc0>, 'quit': <IPython.core.autocall.ZMQExitAutocall object at 0x7c96c315ebc0>, '_': 5.0, '__': <filter object at 0x7c96b210ed40>, '___': '', '_i': 'x = globals()\\nprint(x)', '_ii': '# getattr(object, attribute, default)\\nclass Person:\\n  name = \"John\"\\n  age = 36\\n  country = \"Norway\"\\n\\nx = getattr(Person, \\'age\\', \\'my message\\') # jodi attribute a value thake taile oita nibe naile default ta nibe\\nprint(x)\\n\\nx = getattr(Person, \\'page\\', \\'my message\\') # jodi attribute a value thake taile oita nibe naile default ta nibe\\nprint(x)\\n\\nx = getattr(Person, \\'page\\') # jodi attribute a value thake taile oita nibe naile default ta nibe\\nprint(x)', '_iii': '# getattr(object, attribute, default)\\nclass Person:\\n  name = \"John\"\\n  age = 36\\n  country = \"Norway\"\\n\\nx = getattr(Person, \\'age\\', \\'my message\\') # jodi attribute a value thake taile oita nibe naile default ta nibe\\nprint(x)\\n\\nx = getattr(Person, \\'page\\') # jodi attribute a value thake taile oita nibe naile default ta nibe\\nprint(x)', '_i1': \"a1 = ['foo', 'bar', 'baz', 'qux']\\na2 = [True, False, False]\\na3 = [1,2,3,4,5,6]\\na4 = [True, True, True]\\na5 = [False, False, False]\", 'a1': ['foo', 'bar', 'baz', 'qux'], 'a2': [True, False, False], 'a3': [1, 2, 3, 4, 5, 6], 'a4': [True, True, True], 'a5': [False, False, False], '_i2': '# filter(function,iterable) returns the values from iterable for which function is true.\\nfilter(lambda x:x>2,a3)', '_2': <filter object at 0x7c96b210ed40>, '_i3': '# filter(function,iterable) returns the values from iterable for which function is true.\\nprint(filter(lambda x:x>2,a3))', '_i4': 'float(5)', '_4': 5.0, '_i5': \"print(float(5))\\nprint(float('+1.23'))\\n\\nprint(float('   -12345\\\\n'))\\nprint(float('1e-003'))\\n\\nprint(float('+1E6'))\\n\\nprint(float('-Infinity'))\", '_i6': \"format(print('hello',i),1)\", '_i7': \"format(print('hello',1),1)\", '_i8': \"format(print('hello',1),'1')\", '_i9': 'txt = \"For only {price:.2f} dollars!\"\\nprint(txt.format(price = 49))', 'txt': \"For only {price:.2f} dollars {x:} cents'!\", '_i10': 'txt = \"For only {price:.2f} dollars {x:} cents\\'!\"\\nprint(txt.format(price = 49,x=4))', '_i11': 'txt = \"For only {price:.2f} dollars {x:} cents\\'!\"\\nprint(txt.format(49,4))', '_i12': 'txt = \"For only {price:.2f} dollars {x:} cents\\'!\"\\nprint(txt.format(price = 49,x=4))', '_i13': \"mylist = ['apple', 'banana', 'cherry']\\nx = frozenset(mylist)\", 'mylist': ['apple', 'banana', 'cherry'], 'x': {...}, '_i14': \"mylist = ['apple', 'banana', 'cherry']\\nx = frozenset(mylist)\\nprint(X)\", '_i15': \"mylist = ['apple', 'banana', 'cherry']\\nx = frozenset(mylist)\\nprint(x)\", '_i16': '# getattr(object, attribute, default)\\nclass Person:\\n  name = \"John\"\\n  age = 36\\n  country = \"Norway\"\\n\\nx = getattr(Person, \\'page\\', \\'my message\\')', 'Person': <class '__main__.Person'>, '_i17': '# getattr(object, attribute, default)\\nclass Person:\\n  name = \"John\"\\n  age = 36\\n  country = \"Norway\"\\n\\nx = getattr(Person, \\'page\\', \\'my message\\')\\nprint(x)', '_i18': '# getattr(object, attribute, default)\\nclass Person:\\n  name = \"John\"\\n  age = 36\\n  country = \"Norway\"\\n\\nx = getattr(Person, \\'country\\', \\'my message\\')\\nprint(x)', '_i19': '# getattr(object, attribute, default)\\nclass Person:\\n  name = \"John\"\\n  age = 36\\n  country = \"Norway\"\\n\\nx = getattr(Person, \\'s\\', \\'my message\\')\\nprint(x)', '_i20': '# getattr(object, attribute, default)\\nclass Person:\\n  name = \"John\"\\n  age = 36\\n  country = \"Norway\"\\n\\nx = getattr(Person, \\'s\\', \\'my message\\')\\nprint(x.s)', '_i21': '# getattr(object, attribute, default)\\nclass Person:\\n  name = \"John\"\\n  age = 36\\n  country = \"Norway\"\\n\\nx = getattr(Person, \\'age\\', \\'my message\\') # jodi attribute a value thake taile oita nibe naile default ta nibe\\nprint(x)\\n\\nx = getattr(Person, \\'age\\', \\'my message\\') # jodi attribute a value thake taile oita nibe naile default ta nibe\\nprint(x)', '_i22': '# getattr(object, attribute, default)\\nclass Person:\\n  name = \"John\"\\n  age = 36\\n  country = \"Norway\"\\n\\nx = getattr(Person, \\'age\\', \\'my message\\') # jodi attribute a value thake taile oita nibe naile default ta nibe\\nprint(x)\\n\\nx = getattr(Person, \\'page\\') # jodi attribute a value thake taile oita nibe naile default ta nibe\\nprint(x)', '_i23': '# getattr(object, attribute, default)\\nclass Person:\\n  name = \"John\"\\n  age = 36\\n  country = \"Norway\"\\n\\nx = getattr(Person, \\'age\\', \\'my message\\') # jodi attribute a value thake taile oita nibe naile default ta nibe\\nprint(x)\\n\\nx = getattr(Person, \\'page\\', \\'my message\\') # jodi attribute a value thake taile oita nibe naile default ta nibe\\nprint(x)\\n\\nx = getattr(Person, \\'page\\') # jodi attribute a value thake taile oita nibe naile default ta nibe\\nprint(x)', '_i24': 'x = globals()\\nprint(x)', '_i25': \"x = globals()\\nprint(x)\\n# Python3 program to demonstrate global() function\\n# global variable\\na = 5\\n\\ndef func():\\n\\tc = 10\\n\\td = c + a\\n\\t\\n\\t# Calling globals()\\n\\tglobals()['a'] = d\\n\\tprint (a)\\n\\t\\n# Driver Code \\nfunc()\"}\n",
            "15\n"
          ]
        }
      ]
    },
    {
      "cell_type": "markdown",
      "source": [
        "## H"
      ],
      "metadata": {
        "id": "KkrB1X6QiSQB"
      }
    },
    {
      "cell_type": "code",
      "source": [
        "class Person:\n",
        "  name = \"John\"\n",
        "  age = 36\n",
        "  country = \"Norway\"\n",
        "\n",
        "x = hasattr(Person, 'page')\n",
        "print(x)"
      ],
      "metadata": {
        "colab": {
          "base_uri": "https://localhost:8080/"
        },
        "id": "9YIj2jzFiUDn",
        "outputId": "37939bad-2bb6-4704-860a-233ffb05e3b6"
      },
      "execution_count": null,
      "outputs": [
        {
          "output_type": "stream",
          "name": "stdout",
          "text": [
            "False\n"
          ]
        }
      ]
    },
    {
      "cell_type": "code",
      "source": [
        "# hash(object) Returns the hashed value of object if possible.\n",
        "print(hash(500))\n",
        "print(hash('abc'))"
      ],
      "metadata": {
        "colab": {
          "base_uri": "https://localhost:8080/"
        },
        "id": "IHF0FlQEitTZ",
        "outputId": "49621234-400f-4b7d-84c4-58adc4df1c83"
      },
      "execution_count": null,
      "outputs": [
        {
          "output_type": "stream",
          "name": "stdout",
          "text": [
            "500\n",
            "3368288090939860351\n"
          ]
        }
      ]
    },
    {
      "cell_type": "code",
      "source": [
        "# help(function)\n",
        "help(hash)"
      ],
      "metadata": {
        "colab": {
          "base_uri": "https://localhost:8080/"
        },
        "id": "FaqdHHMVi7Hl",
        "outputId": "40dfebd3-cd39-4da6-8130-45c532ddcecc"
      },
      "execution_count": null,
      "outputs": [
        {
          "output_type": "stream",
          "name": "stdout",
          "text": [
            "Help on built-in function hash in module builtins:\n",
            "\n",
            "hash(obj, /)\n",
            "    Return the hash value for the given object.\n",
            "    \n",
            "    Two objects that compare equal must also have the same hash value, but the\n",
            "    reverse is not necessarily true.\n",
            "\n"
          ]
        }
      ]
    },
    {
      "cell_type": "code",
      "source": [
        "#hex(number)\n",
        "x = hex(255)\n",
        "print(x)"
      ],
      "metadata": {
        "colab": {
          "base_uri": "https://localhost:8080/"
        },
        "id": "eaQui8Q_i9_S",
        "outputId": "08076d85-1062-4b34-df46-728a0b7349c1"
      },
      "execution_count": null,
      "outputs": [
        {
          "output_type": "stream",
          "name": "stdout",
          "text": [
            "0xff\n"
          ]
        }
      ]
    },
    {
      "cell_type": "markdown",
      "source": [
        "## I"
      ],
      "metadata": {
        "id": "fxNBWIOojNaM"
      }
    },
    {
      "cell_type": "code",
      "source": [
        "id(a1) # returns the id of an object"
      ],
      "metadata": {
        "colab": {
          "base_uri": "https://localhost:8080/"
        },
        "id": "vhwvj341jPuq",
        "outputId": "c7b178fb-b76b-4563-d4bb-bfdbfa9ac981"
      },
      "execution_count": null,
      "outputs": [
        {
          "output_type": "execute_result",
          "data": {
            "text/plain": [
              "136986669945984"
            ]
          },
          "metadata": {},
          "execution_count": 36
        }
      ]
    },
    {
      "cell_type": "code",
      "source": [
        "input('Enter your name: ')"
      ],
      "metadata": {
        "colab": {
          "base_uri": "https://localhost:8080/",
          "height": 53
        },
        "id": "1UE4DWllk0f7",
        "outputId": "528f7b4b-2783-49d5-a775-fad0bd6d45de"
      },
      "execution_count": null,
      "outputs": [
        {
          "name": "stdout",
          "output_type": "stream",
          "text": [
            "Enter your name: 55\n"
          ]
        },
        {
          "output_type": "execute_result",
          "data": {
            "text/plain": [
              "'55'"
            ],
            "application/vnd.google.colaboratory.intrinsic+json": {
              "type": "string"
            }
          },
          "metadata": {},
          "execution_count": 37
        }
      ]
    },
    {
      "cell_type": "code",
      "source": [
        "print(int(5.5))\n",
        "print(int('5'))"
      ],
      "metadata": {
        "colab": {
          "base_uri": "https://localhost:8080/"
        },
        "id": "h74EwNK1k30B",
        "outputId": "5565ad11-6069-4541-eaed-b70c5a1b16c8"
      },
      "execution_count": null,
      "outputs": [
        {
          "output_type": "stream",
          "name": "stdout",
          "text": [
            "5\n",
            "5\n"
          ]
        }
      ]
    },
    {
      "cell_type": "code",
      "source": [
        "# isinstance(object, type)\n",
        "print(isinstance(5, int))\n",
        "x = isinstance(\"Hello\", (float, int, str, list, dict, tuple))\n",
        "print(x)\n",
        "class myObj:\n",
        "  name = \"John\"\n",
        "\n",
        "y = myObj()\n",
        "\n",
        "x = isinstance(y, myObj)\n",
        "print(x)"
      ],
      "metadata": {
        "colab": {
          "base_uri": "https://localhost:8080/"
        },
        "id": "Am6-D7t0k_Xn",
        "outputId": "b9ab09ac-75ce-49f5-fdb8-f87866771219"
      },
      "execution_count": null,
      "outputs": [
        {
          "output_type": "stream",
          "name": "stdout",
          "text": [
            "True\n",
            "False\n",
            "True\n"
          ]
        }
      ]
    },
    {
      "cell_type": "code",
      "source": [
        "# issubclass(class, classinfo) Check if the class classinfo is a subclass of class:\n",
        "class myAge:\n",
        "  age = 36\n",
        "\n",
        "class myObj(myAge):\n",
        "  name = \"John\"\n",
        "  age = myAge\n",
        "\n",
        "print(issubclass(myObj, myAge))"
      ],
      "metadata": {
        "colab": {
          "base_uri": "https://localhost:8080/"
        },
        "id": "ODwQcnWPlfKw",
        "outputId": "5bef7f52-2851-4a01-f0e5-453787ae69ab"
      },
      "execution_count": null,
      "outputs": [
        {
          "output_type": "stream",
          "name": "stdout",
          "text": [
            "True\n"
          ]
        }
      ]
    },
    {
      "cell_type": "code",
      "source": [
        "# working of iter()\n",
        "\n",
        "# initializing list\n",
        "lis1 = [1, 2, 3, 4, 5]\n",
        "\n",
        "# printing type\n",
        "print(\"The list is of type : \" + str(type(lis1)))\n",
        "\n",
        "# converting list using iter()\n",
        "lis1 = iter(lis1)\n",
        "\n",
        "# printing type\n",
        "print(\"The iterator is of type : \" + str(type(lis1)))\n",
        "\n",
        "# using next() to print iterator values\n",
        "print(next(lis1))\n",
        "print(next(lis1))\n",
        "print(next(lis1))\n",
        "print(next(lis1))\n",
        "print(next(lis1))\n",
        "\n",
        "\n",
        "# property of iter()\n",
        "\n",
        "# initializing list\n",
        "lis1 = [1, 2, 3, 4, 5]\n",
        "\n",
        "# converting list using iter()\n",
        "lis1 = iter(lis1)\n",
        "\n",
        "# prints this\n",
        "print(\"Values at 1st iteration : \")\n",
        "for i in range(0, 5):\n",
        "    print(next(lis1))\n",
        "\n",
        "# doesn't print this\n",
        "print(\"Values at 2nd iteration : \")\n",
        "for i in range(0, 5):\n",
        "    print(next(lis1))"
      ],
      "metadata": {
        "colab": {
          "base_uri": "https://localhost:8080/",
          "height": 419
        },
        "id": "OspXtRRJmNXS",
        "outputId": "91e413aa-6766-4722-ac35-dd2accaa024e"
      },
      "execution_count": 45,
      "outputs": [
        {
          "output_type": "stream",
          "name": "stdout",
          "text": [
            "The list is of type : <class 'list'>\n",
            "The iterator is of type : <class 'list_iterator'>\n",
            "1\n",
            "2\n",
            "3\n",
            "4\n",
            "5\n",
            "Values at 1st iteration : \n",
            "1\n",
            "2\n",
            "3\n",
            "4\n",
            "5\n",
            "Values at 2nd iteration : \n"
          ]
        },
        {
          "output_type": "error",
          "ename": "StopIteration",
          "evalue": "",
          "traceback": [
            "\u001b[0;31m---------------------------------------------------------------------------\u001b[0m",
            "\u001b[0;31mStopIteration\u001b[0m                             Traceback (most recent call last)",
            "\u001b[0;32m<ipython-input-45-4effe4327b5b>\u001b[0m in \u001b[0;36m<cell line: 38>\u001b[0;34m()\u001b[0m\n\u001b[1;32m     37\u001b[0m \u001b[0mprint\u001b[0m\u001b[0;34m(\u001b[0m\u001b[0;34m\"Values at 2nd iteration : \"\u001b[0m\u001b[0;34m)\u001b[0m\u001b[0;34m\u001b[0m\u001b[0;34m\u001b[0m\u001b[0m\n\u001b[1;32m     38\u001b[0m \u001b[0;32mfor\u001b[0m \u001b[0mi\u001b[0m \u001b[0;32min\u001b[0m \u001b[0mrange\u001b[0m\u001b[0;34m(\u001b[0m\u001b[0;36m0\u001b[0m\u001b[0;34m,\u001b[0m \u001b[0;36m5\u001b[0m\u001b[0;34m)\u001b[0m\u001b[0;34m:\u001b[0m\u001b[0;34m\u001b[0m\u001b[0;34m\u001b[0m\u001b[0m\n\u001b[0;32m---> 39\u001b[0;31m     \u001b[0mprint\u001b[0m\u001b[0;34m(\u001b[0m\u001b[0mnext\u001b[0m\u001b[0;34m(\u001b[0m\u001b[0mlis1\u001b[0m\u001b[0;34m)\u001b[0m\u001b[0;34m)\u001b[0m\u001b[0;34m\u001b[0m\u001b[0;34m\u001b[0m\u001b[0m\n\u001b[0m",
            "\u001b[0;31mStopIteration\u001b[0m: "
          ]
        }
      ]
    },
    {
      "cell_type": "markdown",
      "source": [
        "## L"
      ],
      "metadata": {
        "id": "e8f4bOAbn1DK"
      }
    },
    {
      "cell_type": "code",
      "source": [
        "len(a1)"
      ],
      "metadata": {
        "colab": {
          "base_uri": "https://localhost:8080/"
        },
        "id": "dt2lZ-dVDqfP",
        "outputId": "35e5f8e0-787b-4187-8359-f6085650d346"
      },
      "execution_count": 46,
      "outputs": [
        {
          "output_type": "execute_result",
          "data": {
            "text/plain": [
              "4"
            ]
          },
          "metadata": {},
          "execution_count": 46
        }
      ]
    },
    {
      "cell_type": "code",
      "source": [
        "x = list(('apple', 'banana', 'cherry'))\n",
        "print(x)\n"
      ],
      "metadata": {
        "colab": {
          "base_uri": "https://localhost:8080/"
        },
        "id": "sLiu3EQbDt2e",
        "outputId": "296702ae-64b8-4cc3-ef72-d2fc52283bd2"
      },
      "execution_count": 47,
      "outputs": [
        {
          "output_type": "stream",
          "name": "stdout",
          "text": [
            "['apple', 'banana', 'cherry']\n"
          ]
        }
      ]
    },
    {
      "cell_type": "code",
      "source": [
        "x = locals()\n",
        "print(x)\n",
        "\n",
        "# Python program to understand about locals\n",
        "# here no local variable is present\n",
        "\n",
        "def demo1():\n",
        "    print(\"Here no local variable  is present : \", locals())\n",
        "\n",
        "# here local variables are present\n",
        "def demo2():\n",
        "    name = \"Ankit\"\n",
        "    print(\"Here local variables are present : \", locals())\n",
        "\n",
        "# driver code\n",
        "demo1()\n",
        "demo2()"
      ],
      "metadata": {
        "colab": {
          "base_uri": "https://localhost:8080/"
        },
        "id": "5ZxcOrMsD_aC",
        "outputId": "2246d9e6-27b8-48e1-d587-71ff9e433571"
      },
      "execution_count": 49,
      "outputs": [
        {
          "output_type": "stream",
          "name": "stdout",
          "text": [
            "{'__name__': '__main__', '__doc__': 'Automatically created module for IPython interactive environment', '__package__': None, '__loader__': None, '__spec__': None, '__builtin__': <module 'builtins' (built-in)>, '__builtins__': <module 'builtins' (built-in)>, '_ih': ['', \"a1 = ['foo', 'bar', 'baz', 'qux']\\na2 = [True, False, False]\\na3 = [1,2,3,4,5,6]\\na4 = [True, True, True]\\na5 = [False, False, False]\", '# filter(function,iterable) returns the values from iterable for which function is true.\\nfilter(lambda x:x>2,a3)', '# filter(function,iterable) returns the values from iterable for which function is true.\\nprint(filter(lambda x:x>2,a3))', 'float(5)', \"print(float(5))\\nprint(float('+1.23'))\\n\\nprint(float('   -12345\\\\n'))\\nprint(float('1e-003'))\\n\\nprint(float('+1E6'))\\n\\nprint(float('-Infinity'))\", \"format(print('hello',i),1)\", \"format(print('hello',1),1)\", \"format(print('hello',1),'1')\", 'txt = \"For only {price:.2f} dollars!\"\\nprint(txt.format(price = 49))', 'txt = \"For only {price:.2f} dollars {x:} cents\\'!\"\\nprint(txt.format(price = 49,x=4))', 'txt = \"For only {price:.2f} dollars {x:} cents\\'!\"\\nprint(txt.format(49,4))', 'txt = \"For only {price:.2f} dollars {x:} cents\\'!\"\\nprint(txt.format(price = 49,x=4))', \"mylist = ['apple', 'banana', 'cherry']\\nx = frozenset(mylist)\", \"mylist = ['apple', 'banana', 'cherry']\\nx = frozenset(mylist)\\nprint(X)\", \"mylist = ['apple', 'banana', 'cherry']\\nx = frozenset(mylist)\\nprint(x)\", '# getattr(object, attribute, default)\\nclass Person:\\n  name = \"John\"\\n  age = 36\\n  country = \"Norway\"\\n\\nx = getattr(Person, \\'page\\', \\'my message\\')', '# getattr(object, attribute, default)\\nclass Person:\\n  name = \"John\"\\n  age = 36\\n  country = \"Norway\"\\n\\nx = getattr(Person, \\'page\\', \\'my message\\')\\nprint(x)', '# getattr(object, attribute, default)\\nclass Person:\\n  name = \"John\"\\n  age = 36\\n  country = \"Norway\"\\n\\nx = getattr(Person, \\'country\\', \\'my message\\')\\nprint(x)', '# getattr(object, attribute, default)\\nclass Person:\\n  name = \"John\"\\n  age = 36\\n  country = \"Norway\"\\n\\nx = getattr(Person, \\'s\\', \\'my message\\')\\nprint(x)', '# getattr(object, attribute, default)\\nclass Person:\\n  name = \"John\"\\n  age = 36\\n  country = \"Norway\"\\n\\nx = getattr(Person, \\'s\\', \\'my message\\')\\nprint(x.s)', '# getattr(object, attribute, default)\\nclass Person:\\n  name = \"John\"\\n  age = 36\\n  country = \"Norway\"\\n\\nx = getattr(Person, \\'age\\', \\'my message\\') # jodi attribute a value thake taile oita nibe naile default ta nibe\\nprint(x)\\n\\nx = getattr(Person, \\'age\\', \\'my message\\') # jodi attribute a value thake taile oita nibe naile default ta nibe\\nprint(x)', '# getattr(object, attribute, default)\\nclass Person:\\n  name = \"John\"\\n  age = 36\\n  country = \"Norway\"\\n\\nx = getattr(Person, \\'age\\', \\'my message\\') # jodi attribute a value thake taile oita nibe naile default ta nibe\\nprint(x)\\n\\nx = getattr(Person, \\'page\\') # jodi attribute a value thake taile oita nibe naile default ta nibe\\nprint(x)', '# getattr(object, attribute, default)\\nclass Person:\\n  name = \"John\"\\n  age = 36\\n  country = \"Norway\"\\n\\nx = getattr(Person, \\'age\\', \\'my message\\') # jodi attribute a value thake taile oita nibe naile default ta nibe\\nprint(x)\\n\\nx = getattr(Person, \\'page\\', \\'my message\\') # jodi attribute a value thake taile oita nibe naile default ta nibe\\nprint(x)\\n\\nx = getattr(Person, \\'page\\') # jodi attribute a value thake taile oita nibe naile default ta nibe\\nprint(x)', 'x = globals()\\nprint(x)', \"x = globals()\\nprint(x)\\n# Python3 program to demonstrate global() function\\n# global variable\\na = 5\\n\\ndef func():\\n\\tc = 10\\n\\td = c + a\\n\\t\\n\\t# Calling globals()\\n\\tglobals()['a'] = d\\n\\tprint (a)\\n\\t\\n# Driver Code \\nfunc()\", 'class Person:\\n  name = \"John\"\\n  age = 36\\n  country = \"Norway\"\\n\\nx = hasattr(Person, \\'age\\') \\nprint(x)', 'class Person:\\n  name = \"John\"\\n  age = 36\\n  country = \"Norway\"\\n\\nx = hasattr(Person, \\'page\\') \\nprint(x)', \"# hash(object) Returns the hashed value of object if possible.\\nprint(hash(5))\\nprint(hash('abc'))\", \"# hash(object) Returns the hashed value of object if possible.\\nprint(hash(500))\\nprint(hash('abc'))\", 'hasattr()\\nhash()\\nhelp()\\nhex()\\n\\nI\\nid()\\ninput()\\nint()\\nisinstance()\\nissubclass()\\niter()\\nL\\nlen()\\nlist()\\nlocals()\\n\\nM\\nmap()\\nmax()\\nmemoryview()\\nmin()\\n\\nN\\nnext()\\n\\nO\\nobject()\\noct()\\nopen()\\nord()\\n\\nP\\npow()\\nprint()\\nproperty()\\n\\n\\n\\n\\nR\\nrange()\\nrepr()\\nreversed()\\nround()\\n\\nS\\nset()\\nsetattr()\\nslice()\\nsorted()\\nstaticmethod()\\nstr()\\nsum()\\nsuper()\\n\\nT\\ntuple()\\ntype()\\n\\nV\\nvars()\\n\\nZ\\nzip()\\n\\n_\\n__import__()', 'class Person:\\n  name = \"John\"\\n  age = 36\\n  country = \"Norway\"\\n\\nx = hasattr(Person, \\'page\\') \\nprint(x)', \"# hash(object) Returns the hashed value of object if possible.\\nprint(hash(500))\\nprint(hash('abc'))\", \"# hash(object) Returns the hashed value of object if possible.\\nprint(hash(500))\\nprint(hash('abc'))\", '# help(function)\\nhelp(hash)', '#hex(number)\\nx = hex(255)\\nprint(x)', 'id(a1)', \"input('Enter your name: ')\", 'print(int(5.5))', \"print(int(5.5))\\nprint(int('5'))\", '# isinstance(object, type)\\nprint(isinstance(5, int))', '# isinstance(object, type)\\nprint(isinstance(5, int))\\nx = isinstance(\"Hello\", (float, int, str, list, dict, tuple))\\nprint(x)\\nclass myObj:\\n  name = \"John\"\\n\\ny = myObj()\\n\\nx = isinstance(y, myObj)\\nprint(x)', '# isinstance(object, type)\\nprint(isinstance(5, int))\\nx = isinstance(\"Hello\", (float, int, list, dict, tuple))\\nprint(x)\\nclass myObj:\\n  name = \"John\"\\n\\ny = myObj()\\n\\nx = isinstance(y, myObj)\\nprint(x)', '# issubclass(class, classinfo) Check if the class classinfo is a subclass of class:\\nclass myAge:\\n  age = 36\\n\\nclass myObj(myAge):\\n  name = \"John\"\\n  age = myAge\\n\\nprint(issubclass(myObj, myAge))', '# working of iter()\\n \\n# initializing list\\nlis1 = [1, 2, 3, 4, 5]\\n \\n# printing type\\nprint(\"The list is of type : \" + str(type(lis1)))\\n \\n# converting list using iter()\\nlis1 = iter(lis1)\\n \\n# printing type\\nprint(\"The iterator is of type : \" + str(type(lis1)))\\n \\n# using next() to print iterator values\\nprint(next(lis1))\\nprint(next(lis1))\\nprint(next(lis1))\\nprint(next(lis1))\\nprint(next(lis1))', '# working of iter()\\n \\n# initializing list\\nlis1 = [1, 2, 3, 4, 5]\\n \\n# printing type\\nprint(\"The list is of type : \" + str(type(lis1)))\\n \\n# converting list using iter()\\nlis1 = iter(lis1)\\n \\n# printing type\\nprint(\"The iterator is of type : \" + str(type(lis1)))\\n \\n# using next() to print iterator values\\nprint(next(lis1))\\nprint(next(lis1))\\nprint(next(lis1))\\nprint(next(lis1))\\nprint(next(lis1))\\n\\n\\n# property of iter()\\n \\n# initializing list\\nlis1 = [1, 2, 3, 4, 5]\\n \\n# converting list using iter()\\nlis1 = iter(lis1)\\n \\n# prints this\\nprint(\"Values at 1st iteration : \")\\nfor i in range(0, 5):\\n    print(next(lis1))\\n \\n# doesn\\'t print this\\nprint(\"Values at 2nd iteration : \")\\nfor i in range(0, 5):\\n    print(next(lis1))', 'len(a1)', \"x = list(('apple', 'banana', 'cherry'))\\nprint(x)\", 'x = locals()\\nprint(x)', 'x = locals()\\nprint(x)\\n\\n# Python program to understand about locals\\n# here no local variable is present\\n\\ndef demo1():\\n    print(\"Here no local variable  is present : \", locals())\\n\\n# here local variables are present\\ndef demo2():\\n    name = \"Ankit\"\\n    print(\"Here local variables are present : \", locals())\\n\\n# driver code\\ndemo1()\\ndemo2()'], '_oh': {2: <filter object at 0x7c96b210ed40>, 4: 5.0, 36: 136986669945984, 37: '55', 46: 4}, '_dh': ['/content'], 'In': ['', \"a1 = ['foo', 'bar', 'baz', 'qux']\\na2 = [True, False, False]\\na3 = [1,2,3,4,5,6]\\na4 = [True, True, True]\\na5 = [False, False, False]\", '# filter(function,iterable) returns the values from iterable for which function is true.\\nfilter(lambda x:x>2,a3)', '# filter(function,iterable) returns the values from iterable for which function is true.\\nprint(filter(lambda x:x>2,a3))', 'float(5)', \"print(float(5))\\nprint(float('+1.23'))\\n\\nprint(float('   -12345\\\\n'))\\nprint(float('1e-003'))\\n\\nprint(float('+1E6'))\\n\\nprint(float('-Infinity'))\", \"format(print('hello',i),1)\", \"format(print('hello',1),1)\", \"format(print('hello',1),'1')\", 'txt = \"For only {price:.2f} dollars!\"\\nprint(txt.format(price = 49))', 'txt = \"For only {price:.2f} dollars {x:} cents\\'!\"\\nprint(txt.format(price = 49,x=4))', 'txt = \"For only {price:.2f} dollars {x:} cents\\'!\"\\nprint(txt.format(49,4))', 'txt = \"For only {price:.2f} dollars {x:} cents\\'!\"\\nprint(txt.format(price = 49,x=4))', \"mylist = ['apple', 'banana', 'cherry']\\nx = frozenset(mylist)\", \"mylist = ['apple', 'banana', 'cherry']\\nx = frozenset(mylist)\\nprint(X)\", \"mylist = ['apple', 'banana', 'cherry']\\nx = frozenset(mylist)\\nprint(x)\", '# getattr(object, attribute, default)\\nclass Person:\\n  name = \"John\"\\n  age = 36\\n  country = \"Norway\"\\n\\nx = getattr(Person, \\'page\\', \\'my message\\')', '# getattr(object, attribute, default)\\nclass Person:\\n  name = \"John\"\\n  age = 36\\n  country = \"Norway\"\\n\\nx = getattr(Person, \\'page\\', \\'my message\\')\\nprint(x)', '# getattr(object, attribute, default)\\nclass Person:\\n  name = \"John\"\\n  age = 36\\n  country = \"Norway\"\\n\\nx = getattr(Person, \\'country\\', \\'my message\\')\\nprint(x)', '# getattr(object, attribute, default)\\nclass Person:\\n  name = \"John\"\\n  age = 36\\n  country = \"Norway\"\\n\\nx = getattr(Person, \\'s\\', \\'my message\\')\\nprint(x)', '# getattr(object, attribute, default)\\nclass Person:\\n  name = \"John\"\\n  age = 36\\n  country = \"Norway\"\\n\\nx = getattr(Person, \\'s\\', \\'my message\\')\\nprint(x.s)', '# getattr(object, attribute, default)\\nclass Person:\\n  name = \"John\"\\n  age = 36\\n  country = \"Norway\"\\n\\nx = getattr(Person, \\'age\\', \\'my message\\') # jodi attribute a value thake taile oita nibe naile default ta nibe\\nprint(x)\\n\\nx = getattr(Person, \\'age\\', \\'my message\\') # jodi attribute a value thake taile oita nibe naile default ta nibe\\nprint(x)', '# getattr(object, attribute, default)\\nclass Person:\\n  name = \"John\"\\n  age = 36\\n  country = \"Norway\"\\n\\nx = getattr(Person, \\'age\\', \\'my message\\') # jodi attribute a value thake taile oita nibe naile default ta nibe\\nprint(x)\\n\\nx = getattr(Person, \\'page\\') # jodi attribute a value thake taile oita nibe naile default ta nibe\\nprint(x)', '# getattr(object, attribute, default)\\nclass Person:\\n  name = \"John\"\\n  age = 36\\n  country = \"Norway\"\\n\\nx = getattr(Person, \\'age\\', \\'my message\\') # jodi attribute a value thake taile oita nibe naile default ta nibe\\nprint(x)\\n\\nx = getattr(Person, \\'page\\', \\'my message\\') # jodi attribute a value thake taile oita nibe naile default ta nibe\\nprint(x)\\n\\nx = getattr(Person, \\'page\\') # jodi attribute a value thake taile oita nibe naile default ta nibe\\nprint(x)', 'x = globals()\\nprint(x)', \"x = globals()\\nprint(x)\\n# Python3 program to demonstrate global() function\\n# global variable\\na = 5\\n\\ndef func():\\n\\tc = 10\\n\\td = c + a\\n\\t\\n\\t# Calling globals()\\n\\tglobals()['a'] = d\\n\\tprint (a)\\n\\t\\n# Driver Code \\nfunc()\", 'class Person:\\n  name = \"John\"\\n  age = 36\\n  country = \"Norway\"\\n\\nx = hasattr(Person, \\'age\\') \\nprint(x)', 'class Person:\\n  name = \"John\"\\n  age = 36\\n  country = \"Norway\"\\n\\nx = hasattr(Person, \\'page\\') \\nprint(x)', \"# hash(object) Returns the hashed value of object if possible.\\nprint(hash(5))\\nprint(hash('abc'))\", \"# hash(object) Returns the hashed value of object if possible.\\nprint(hash(500))\\nprint(hash('abc'))\", 'hasattr()\\nhash()\\nhelp()\\nhex()\\n\\nI\\nid()\\ninput()\\nint()\\nisinstance()\\nissubclass()\\niter()\\nL\\nlen()\\nlist()\\nlocals()\\n\\nM\\nmap()\\nmax()\\nmemoryview()\\nmin()\\n\\nN\\nnext()\\n\\nO\\nobject()\\noct()\\nopen()\\nord()\\n\\nP\\npow()\\nprint()\\nproperty()\\n\\n\\n\\n\\nR\\nrange()\\nrepr()\\nreversed()\\nround()\\n\\nS\\nset()\\nsetattr()\\nslice()\\nsorted()\\nstaticmethod()\\nstr()\\nsum()\\nsuper()\\n\\nT\\ntuple()\\ntype()\\n\\nV\\nvars()\\n\\nZ\\nzip()\\n\\n_\\n__import__()', 'class Person:\\n  name = \"John\"\\n  age = 36\\n  country = \"Norway\"\\n\\nx = hasattr(Person, \\'page\\') \\nprint(x)', \"# hash(object) Returns the hashed value of object if possible.\\nprint(hash(500))\\nprint(hash('abc'))\", \"# hash(object) Returns the hashed value of object if possible.\\nprint(hash(500))\\nprint(hash('abc'))\", '# help(function)\\nhelp(hash)', '#hex(number)\\nx = hex(255)\\nprint(x)', 'id(a1)', \"input('Enter your name: ')\", 'print(int(5.5))', \"print(int(5.5))\\nprint(int('5'))\", '# isinstance(object, type)\\nprint(isinstance(5, int))', '# isinstance(object, type)\\nprint(isinstance(5, int))\\nx = isinstance(\"Hello\", (float, int, str, list, dict, tuple))\\nprint(x)\\nclass myObj:\\n  name = \"John\"\\n\\ny = myObj()\\n\\nx = isinstance(y, myObj)\\nprint(x)', '# isinstance(object, type)\\nprint(isinstance(5, int))\\nx = isinstance(\"Hello\", (float, int, list, dict, tuple))\\nprint(x)\\nclass myObj:\\n  name = \"John\"\\n\\ny = myObj()\\n\\nx = isinstance(y, myObj)\\nprint(x)', '# issubclass(class, classinfo) Check if the class classinfo is a subclass of class:\\nclass myAge:\\n  age = 36\\n\\nclass myObj(myAge):\\n  name = \"John\"\\n  age = myAge\\n\\nprint(issubclass(myObj, myAge))', '# working of iter()\\n \\n# initializing list\\nlis1 = [1, 2, 3, 4, 5]\\n \\n# printing type\\nprint(\"The list is of type : \" + str(type(lis1)))\\n \\n# converting list using iter()\\nlis1 = iter(lis1)\\n \\n# printing type\\nprint(\"The iterator is of type : \" + str(type(lis1)))\\n \\n# using next() to print iterator values\\nprint(next(lis1))\\nprint(next(lis1))\\nprint(next(lis1))\\nprint(next(lis1))\\nprint(next(lis1))', '# working of iter()\\n \\n# initializing list\\nlis1 = [1, 2, 3, 4, 5]\\n \\n# printing type\\nprint(\"The list is of type : \" + str(type(lis1)))\\n \\n# converting list using iter()\\nlis1 = iter(lis1)\\n \\n# printing type\\nprint(\"The iterator is of type : \" + str(type(lis1)))\\n \\n# using next() to print iterator values\\nprint(next(lis1))\\nprint(next(lis1))\\nprint(next(lis1))\\nprint(next(lis1))\\nprint(next(lis1))\\n\\n\\n# property of iter()\\n \\n# initializing list\\nlis1 = [1, 2, 3, 4, 5]\\n \\n# converting list using iter()\\nlis1 = iter(lis1)\\n \\n# prints this\\nprint(\"Values at 1st iteration : \")\\nfor i in range(0, 5):\\n    print(next(lis1))\\n \\n# doesn\\'t print this\\nprint(\"Values at 2nd iteration : \")\\nfor i in range(0, 5):\\n    print(next(lis1))', 'len(a1)', \"x = list(('apple', 'banana', 'cherry'))\\nprint(x)\", 'x = locals()\\nprint(x)', 'x = locals()\\nprint(x)\\n\\n# Python program to understand about locals\\n# here no local variable is present\\n\\ndef demo1():\\n    print(\"Here no local variable  is present : \", locals())\\n\\n# here local variables are present\\ndef demo2():\\n    name = \"Ankit\"\\n    print(\"Here local variables are present : \", locals())\\n\\n# driver code\\ndemo1()\\ndemo2()'], 'Out': {2: <filter object at 0x7c96b210ed40>, 4: 5.0, 36: 136986669945984, 37: '55', 46: 4}, 'get_ipython': <bound method InteractiveShell.get_ipython of <google.colab._shell.Shell object at 0x7c96c315e1d0>>, 'exit': <IPython.core.autocall.ZMQExitAutocall object at 0x7c96c315ebc0>, 'quit': <IPython.core.autocall.ZMQExitAutocall object at 0x7c96c315ebc0>, '_': 4, '__': '55', '___': 136986669945984, '_i': 'x = locals()\\nprint(x)', '_ii': \"x = list(('apple', 'banana', 'cherry'))\\nprint(x)\", '_iii': 'len(a1)', '_i1': \"a1 = ['foo', 'bar', 'baz', 'qux']\\na2 = [True, False, False]\\na3 = [1,2,3,4,5,6]\\na4 = [True, True, True]\\na5 = [False, False, False]\", 'a1': ['foo', 'bar', 'baz', 'qux'], 'a2': [True, False, False], 'a3': [1, 2, 3, 4, 5, 6], 'a4': [True, True, True], 'a5': [False, False, False], '_i2': '# filter(function,iterable) returns the values from iterable for which function is true.\\nfilter(lambda x:x>2,a3)', '_2': <filter object at 0x7c96b210ed40>, '_i3': '# filter(function,iterable) returns the values from iterable for which function is true.\\nprint(filter(lambda x:x>2,a3))', '_i4': 'float(5)', '_4': 5.0, '_i5': \"print(float(5))\\nprint(float('+1.23'))\\n\\nprint(float('   -12345\\\\n'))\\nprint(float('1e-003'))\\n\\nprint(float('+1E6'))\\n\\nprint(float('-Infinity'))\", '_i6': \"format(print('hello',i),1)\", '_i7': \"format(print('hello',1),1)\", '_i8': \"format(print('hello',1),'1')\", '_i9': 'txt = \"For only {price:.2f} dollars!\"\\nprint(txt.format(price = 49))', 'txt': \"For only {price:.2f} dollars {x:} cents'!\", '_i10': 'txt = \"For only {price:.2f} dollars {x:} cents\\'!\"\\nprint(txt.format(price = 49,x=4))', '_i11': 'txt = \"For only {price:.2f} dollars {x:} cents\\'!\"\\nprint(txt.format(49,4))', '_i12': 'txt = \"For only {price:.2f} dollars {x:} cents\\'!\"\\nprint(txt.format(price = 49,x=4))', '_i13': \"mylist = ['apple', 'banana', 'cherry']\\nx = frozenset(mylist)\", 'mylist': ['apple', 'banana', 'cherry'], 'x': {...}, '_i14': \"mylist = ['apple', 'banana', 'cherry']\\nx = frozenset(mylist)\\nprint(X)\", '_i15': \"mylist = ['apple', 'banana', 'cherry']\\nx = frozenset(mylist)\\nprint(x)\", '_i16': '# getattr(object, attribute, default)\\nclass Person:\\n  name = \"John\"\\n  age = 36\\n  country = \"Norway\"\\n\\nx = getattr(Person, \\'page\\', \\'my message\\')', 'Person': <class '__main__.Person'>, '_i17': '# getattr(object, attribute, default)\\nclass Person:\\n  name = \"John\"\\n  age = 36\\n  country = \"Norway\"\\n\\nx = getattr(Person, \\'page\\', \\'my message\\')\\nprint(x)', '_i18': '# getattr(object, attribute, default)\\nclass Person:\\n  name = \"John\"\\n  age = 36\\n  country = \"Norway\"\\n\\nx = getattr(Person, \\'country\\', \\'my message\\')\\nprint(x)', '_i19': '# getattr(object, attribute, default)\\nclass Person:\\n  name = \"John\"\\n  age = 36\\n  country = \"Norway\"\\n\\nx = getattr(Person, \\'s\\', \\'my message\\')\\nprint(x)', '_i20': '# getattr(object, attribute, default)\\nclass Person:\\n  name = \"John\"\\n  age = 36\\n  country = \"Norway\"\\n\\nx = getattr(Person, \\'s\\', \\'my message\\')\\nprint(x.s)', '_i21': '# getattr(object, attribute, default)\\nclass Person:\\n  name = \"John\"\\n  age = 36\\n  country = \"Norway\"\\n\\nx = getattr(Person, \\'age\\', \\'my message\\') # jodi attribute a value thake taile oita nibe naile default ta nibe\\nprint(x)\\n\\nx = getattr(Person, \\'age\\', \\'my message\\') # jodi attribute a value thake taile oita nibe naile default ta nibe\\nprint(x)', '_i22': '# getattr(object, attribute, default)\\nclass Person:\\n  name = \"John\"\\n  age = 36\\n  country = \"Norway\"\\n\\nx = getattr(Person, \\'age\\', \\'my message\\') # jodi attribute a value thake taile oita nibe naile default ta nibe\\nprint(x)\\n\\nx = getattr(Person, \\'page\\') # jodi attribute a value thake taile oita nibe naile default ta nibe\\nprint(x)', '_i23': '# getattr(object, attribute, default)\\nclass Person:\\n  name = \"John\"\\n  age = 36\\n  country = \"Norway\"\\n\\nx = getattr(Person, \\'age\\', \\'my message\\') # jodi attribute a value thake taile oita nibe naile default ta nibe\\nprint(x)\\n\\nx = getattr(Person, \\'page\\', \\'my message\\') # jodi attribute a value thake taile oita nibe naile default ta nibe\\nprint(x)\\n\\nx = getattr(Person, \\'page\\') # jodi attribute a value thake taile oita nibe naile default ta nibe\\nprint(x)', '_i24': 'x = globals()\\nprint(x)', '_i25': \"x = globals()\\nprint(x)\\n# Python3 program to demonstrate global() function\\n# global variable\\na = 5\\n\\ndef func():\\n\\tc = 10\\n\\td = c + a\\n\\t\\n\\t# Calling globals()\\n\\tglobals()['a'] = d\\n\\tprint (a)\\n\\t\\n# Driver Code \\nfunc()\", 'a': 15, 'func': <function func at 0x7c969dbce8c0>, '_i26': 'class Person:\\n  name = \"John\"\\n  age = 36\\n  country = \"Norway\"\\n\\nx = hasattr(Person, \\'age\\') \\nprint(x)', '_i27': 'class Person:\\n  name = \"John\"\\n  age = 36\\n  country = \"Norway\"\\n\\nx = hasattr(Person, \\'page\\') \\nprint(x)', '_i28': \"# hash(object) Returns the hashed value of object if possible.\\nprint(hash(5))\\nprint(hash('abc'))\", '_i29': \"# hash(object) Returns the hashed value of object if possible.\\nprint(hash(500))\\nprint(hash('abc'))\", '_i30': '\\nhasattr()\\nhash()\\nhelp()\\nhex()\\n\\nI\\nid()\\ninput()\\nint()\\nisinstance()\\nissubclass()\\niter()\\nL\\nlen()\\nlist()\\nlocals()\\n\\nM\\nmap()\\nmax()\\nmemoryview()\\nmin()\\n\\nN\\nnext()\\n\\nO\\nobject()\\noct()\\nopen()\\nord()\\n\\nP\\npow()\\nprint()\\nproperty()\\n\\n\\n\\n\\nR\\nrange()\\nrepr()\\nreversed()\\nround()\\n\\nS\\nset()\\nsetattr()\\nslice()\\nsorted()\\nstaticmethod()\\nstr()\\nsum()\\nsuper()\\n\\nT\\ntuple()\\ntype()\\n\\nV\\nvars()\\n\\nZ\\nzip()\\n\\n_\\n__import__()', '_i31': 'class Person:\\n  name = \"John\"\\n  age = 36\\n  country = \"Norway\"\\n\\nx = hasattr(Person, \\'page\\') \\nprint(x)', '_i32': \"# hash(object) Returns the hashed value of object if possible.\\nprint(hash(500))\\nprint(hash('abc'))\", '_i33': \"# hash(object) Returns the hashed value of object if possible.\\nprint(hash(500))\\nprint(hash('abc'))\", '_i34': '# help(function)\\nhelp(hash)', '_i35': '#hex(number)\\nx = hex(255)\\nprint(x)', '_i36': 'id(a1)', '_36': 136986669945984, '_i37': \"input('Enter your name: ')\", '_37': '55', '_i38': 'print(int(5.5))', '_i39': \"print(int(5.5))\\nprint(int('5'))\", '_i40': '# isinstance(object, type)\\nprint(isinstance(5, int))', '_i41': '# isinstance(object, type)\\nprint(isinstance(5, int))\\nx = isinstance(\"Hello\", (float, int, str, list, dict, tuple))\\nprint(x)\\nclass myObj:\\n  name = \"John\"\\n\\ny = myObj()\\n\\nx = isinstance(y, myObj)\\nprint(x)', 'myObj': <class '__main__.myObj'>, 'y': <__main__.myObj object at 0x7c96b2262aa0>, '_i42': '# isinstance(object, type)\\nprint(isinstance(5, int))\\nx = isinstance(\"Hello\", (float, int, list, dict, tuple))\\nprint(x)\\nclass myObj:\\n  name = \"John\"\\n\\ny = myObj()\\n\\nx = isinstance(y, myObj)\\nprint(x)', '_i43': '# issubclass(class, classinfo) Check if the class classinfo is a subclass of class:\\nclass myAge:\\n  age = 36\\n\\nclass myObj(myAge):\\n  name = \"John\"\\n  age = myAge\\n\\nprint(issubclass(myObj, myAge))', 'myAge': <class '__main__.myAge'>, '_i44': '# working of iter()\\n \\n# initializing list\\nlis1 = [1, 2, 3, 4, 5]\\n \\n# printing type\\nprint(\"The list is of type : \" + str(type(lis1)))\\n \\n# converting list using iter()\\nlis1 = iter(lis1)\\n \\n# printing type\\nprint(\"The iterator is of type : \" + str(type(lis1)))\\n \\n# using next() to print iterator values\\nprint(next(lis1))\\nprint(next(lis1))\\nprint(next(lis1))\\nprint(next(lis1))\\nprint(next(lis1))', 'lis1': <list_iterator object at 0x7c96b2261d20>, '_i45': '# working of iter()\\n \\n# initializing list\\nlis1 = [1, 2, 3, 4, 5]\\n \\n# printing type\\nprint(\"The list is of type : \" + str(type(lis1)))\\n \\n# converting list using iter()\\nlis1 = iter(lis1)\\n \\n# printing type\\nprint(\"The iterator is of type : \" + str(type(lis1)))\\n \\n# using next() to print iterator values\\nprint(next(lis1))\\nprint(next(lis1))\\nprint(next(lis1))\\nprint(next(lis1))\\nprint(next(lis1))\\n\\n\\n# property of iter()\\n \\n# initializing list\\nlis1 = [1, 2, 3, 4, 5]\\n \\n# converting list using iter()\\nlis1 = iter(lis1)\\n \\n# prints this\\nprint(\"Values at 1st iteration : \")\\nfor i in range(0, 5):\\n    print(next(lis1))\\n \\n# doesn\\'t print this\\nprint(\"Values at 2nd iteration : \")\\nfor i in range(0, 5):\\n    print(next(lis1))', 'i': 0, '_i46': 'len(a1)', '_46': 4, '_i47': \"x = list(('apple', 'banana', 'cherry'))\\nprint(x)\", '_i48': 'x = locals()\\nprint(x)', '_i49': 'x = locals()\\nprint(x)\\n\\n# Python program to understand about locals\\n# here no local variable is present\\n\\ndef demo1():\\n    print(\"Here no local variable  is present : \", locals())\\n\\n# here local variables are present\\ndef demo2():\\n    name = \"Ankit\"\\n    print(\"Here local variables are present : \", locals())\\n\\n# driver code\\ndemo1()\\ndemo2()'}\n",
            "Here no local variable  is present :  {}\n",
            "Here local variables are present :  {'name': 'Ankit'}\n"
          ]
        }
      ]
    },
    {
      "cell_type": "markdown",
      "source": [
        "## M"
      ],
      "metadata": {
        "id": "lcV4fZ7CFOrV"
      }
    },
    {
      "cell_type": "code",
      "source": [
        "s = ['1', '2', '3', '4']\n",
        "res = map(int, s)\n",
        "print(list(res))\n",
        "# map(function, iterable)"
      ],
      "metadata": {
        "colab": {
          "base_uri": "https://localhost:8080/"
        },
        "id": "cJ4FKkjjFQsU",
        "outputId": "71849a65-c59e-4efe-c699-affe5cae92ed"
      },
      "execution_count": 50,
      "outputs": [
        {
          "output_type": "stream",
          "name": "stdout",
          "text": [
            "[1, 2, 3, 4]\n"
          ]
        }
      ]
    },
    {
      "cell_type": "code",
      "source": [
        "max(a3)"
      ],
      "metadata": {
        "colab": {
          "base_uri": "https://localhost:8080/"
        },
        "id": "g6aJ-FK2PPBT",
        "outputId": "8be85ba6-f9f5-4305-eb95-ac26b7e8914c"
      },
      "execution_count": 51,
      "outputs": [
        {
          "output_type": "execute_result",
          "data": {
            "text/plain": [
              "6"
            ]
          },
          "metadata": {},
          "execution_count": 51
        }
      ]
    },
    {
      "cell_type": "code",
      "source": [
        "print(memoryview(bytes(5)))\n",
        "byte_array = bytearray('XYZ', 'utf-8')\n",
        "\n",
        "mv = memoryview(byte_array)\n",
        "\n",
        "print(mv[0])\n",
        "print(bytes(mv[0:2]))\n",
        "\n",
        "# Python program to illustrate\n",
        "# Modifying internal data using memory view\n",
        "\n",
        "# random bytearray\n",
        "byte_array = bytearray('XYZ', 'utf-8')\n",
        "print('Before update:', byte_array)\n",
        "\n",
        "mem_view = memoryview(byte_array)\n",
        "\n",
        "# update 2nd index of mem_view to J\n",
        "mem_view[2] = 74\n",
        "print('After update:', byte_array)\n",
        "\n",
        "\n",
        "#memory view to bytes\n",
        "byt = bytes(mv[0:2])\n",
        "print(byt)\n",
        "\n",
        "#memory view to string\n",
        "str = str(mv[0:2])\n",
        "print(str)\n"
      ],
      "metadata": {
        "colab": {
          "base_uri": "https://localhost:8080/"
        },
        "id": "3BzVoibePi_g",
        "outputId": "94a7900f-5275-4062-ebf7-925d1581348d"
      },
      "execution_count": 57,
      "outputs": [
        {
          "output_type": "stream",
          "name": "stdout",
          "text": [
            "<memory at 0x7c967c8bce80>\n",
            "88\n",
            "b'XY'\n",
            "Before update: bytearray(b'XYZ')\n",
            "After update: bytearray(b'XYJ')\n",
            "b'XY'\n",
            "<memory at 0x7c967c8bd000>\n"
          ]
        }
      ]
    },
    {
      "cell_type": "code",
      "source": [
        "min(a1)"
      ],
      "metadata": {
        "colab": {
          "base_uri": "https://localhost:8080/",
          "height": 36
        },
        "id": "3dFsnIZtQvx4",
        "outputId": "750896ee-bbf8-42cb-816f-629b4cdfda81"
      },
      "execution_count": 59,
      "outputs": [
        {
          "output_type": "execute_result",
          "data": {
            "text/plain": [
              "'bar'"
            ],
            "application/vnd.google.colaboratory.intrinsic+json": {
              "type": "string"
            }
          },
          "metadata": {},
          "execution_count": 59
        }
      ]
    },
    {
      "cell_type": "markdown",
      "source": [
        "## N"
      ],
      "metadata": {
        "id": "mLew832oQ6S5"
      }
    },
    {
      "cell_type": "code",
      "source": [
        "next(iterable)"
      ],
      "metadata": {
        "colab": {
          "base_uri": "https://localhost:8080/",
          "height": 141
        },
        "collapsed": true,
        "id": "exdHwwdpQ0KC",
        "outputId": "c25ab9c3-608d-43a6-f66f-2d7c370b9237"
      },
      "execution_count": 60,
      "outputs": [
        {
          "output_type": "error",
          "ename": "TypeError",
          "evalue": "'list' object is not an iterator",
          "traceback": [
            "\u001b[0;31m---------------------------------------------------------------------------\u001b[0m",
            "\u001b[0;31mTypeError\u001b[0m                                 Traceback (most recent call last)",
            "\u001b[0;32m<ipython-input-60-80d6290cb2ac>\u001b[0m in \u001b[0;36m<cell line: 1>\u001b[0;34m()\u001b[0m\n\u001b[0;32m----> 1\u001b[0;31m \u001b[0mnext\u001b[0m\u001b[0;34m(\u001b[0m\u001b[0ma1\u001b[0m\u001b[0;34m)\u001b[0m\u001b[0;34m\u001b[0m\u001b[0;34m\u001b[0m\u001b[0m\n\u001b[0m",
            "\u001b[0;31mTypeError\u001b[0m: 'list' object is not an iterator"
          ]
        }
      ]
    },
    {
      "cell_type": "markdown",
      "source": [
        "## O"
      ],
      "metadata": {
        "id": "3WcxSehERZ4W"
      }
    },
    {
      "cell_type": "code",
      "source": [
        "The object() function returns an empty object.\n",
        "\n",
        "You cannot add new properties or methods to this object.\n",
        "\n",
        "This object is the base for all classes, it holds the built-in properties and methods which are default for all classes.\n",
        "\n"
      ],
      "metadata": {
        "id": "j2CoQUrgRfdg"
      },
      "execution_count": null,
      "outputs": []
    },
    {
      "cell_type": "code",
      "source": [
        "oct(8) #returns octal value"
      ],
      "metadata": {
        "colab": {
          "base_uri": "https://localhost:8080/",
          "height": 36
        },
        "id": "cEQFgw49Rhjm",
        "outputId": "e4942d2d-69d9-44ee-cb05-332e297d5342"
      },
      "execution_count": 63,
      "outputs": [
        {
          "output_type": "execute_result",
          "data": {
            "text/plain": [
              "'0o10'"
            ],
            "application/vnd.google.colaboratory.intrinsic+json": {
              "type": "string"
            }
          },
          "metadata": {},
          "execution_count": 63
        }
      ]
    },
    {
      "cell_type": "code",
      "source": [
        "open(file, mode)"
      ],
      "metadata": {
        "id": "GhmrZznoRq7d"
      },
      "execution_count": null,
      "outputs": []
    },
    {
      "cell_type": "code",
      "source": [
        "ord('s') #returns ascii value of a character"
      ],
      "metadata": {
        "colab": {
          "base_uri": "https://localhost:8080/"
        },
        "id": "CZeSYX_BRzez",
        "outputId": "5a68e359-09f0-48a9-a5b9-f14474d86a03"
      },
      "execution_count": 67,
      "outputs": [
        {
          "output_type": "execute_result",
          "data": {
            "text/plain": [
              "115"
            ]
          },
          "metadata": {},
          "execution_count": 67
        }
      ]
    },
    {
      "cell_type": "markdown",
      "source": [
        "## P"
      ],
      "metadata": {
        "id": "q22YIAGNRcfs"
      }
    },
    {
      "cell_type": "code",
      "source": [
        "pow( 2, 3) #returns 2^3"
      ],
      "metadata": {
        "colab": {
          "base_uri": "https://localhost:8080/"
        },
        "id": "zzRVh0kfR8h0",
        "outputId": "82306edb-ea16-4826-b534-9213216d33bf"
      },
      "execution_count": 68,
      "outputs": [
        {
          "output_type": "execute_result",
          "data": {
            "text/plain": [
              "8"
            ]
          },
          "metadata": {},
          "execution_count": 68
        }
      ]
    },
    {
      "cell_type": "code",
      "source": [
        "print('hello',4,a1)"
      ],
      "metadata": {
        "colab": {
          "base_uri": "https://localhost:8080/"
        },
        "id": "orX8fshBSGuw",
        "outputId": "17e4861e-d758-40c6-cc48-f8c4190bb0ea"
      },
      "execution_count": 70,
      "outputs": [
        {
          "output_type": "stream",
          "name": "stdout",
          "text": [
            "hello 4 ['foo', 'bar', 'baz', 'qux']\n"
          ]
        }
      ]
    },
    {
      "cell_type": "code",
      "source": [
        "# Python program to explain property() function\n",
        "# Alphabet class\n",
        "\n",
        "class Alphabet:\n",
        "    def __init__(self, value):\n",
        "        self._value = value\n",
        "\n",
        "    # getting the values\n",
        "    def getValue(self):\n",
        "        print('Getting value')\n",
        "        return self._value\n",
        "\n",
        "    # setting the values\n",
        "    def setValue(self, value):\n",
        "        print('Setting value to ' + value)\n",
        "        self._value = value\n",
        "\n",
        "    # deleting the values\n",
        "    def delValue(self):\n",
        "        print('Deleting value')\n",
        "        del self._value\n",
        "\n",
        "    value = property(getValue, setValue,\n",
        "                     delValue, )\n",
        "\n",
        "\n",
        "# passing the value\n",
        "x = Alphabet('GeeksforGeeks')\n",
        "print(x.value)\n",
        "\n",
        "x.value = 'GfG'\n",
        "\n",
        "del x.value"
      ],
      "metadata": {
        "colab": {
          "base_uri": "https://localhost:8080/"
        },
        "id": "Csh3gkjlSQFg",
        "outputId": "1f581b3a-f0bc-46ba-babb-850efeac073c"
      },
      "execution_count": 74,
      "outputs": [
        {
          "output_type": "stream",
          "name": "stdout",
          "text": [
            "Getting value\n",
            "GeeksforGeeks\n",
            "Setting value to GfG\n",
            "Deleting value\n"
          ]
        }
      ]
    },
    {
      "cell_type": "code",
      "source": [
        "# create a class\n",
        "class gfg:\n",
        "\n",
        "    # constructor\n",
        "    def __init__(self, value):\n",
        "        self._value = value\n",
        "\n",
        "    # getting the values\n",
        "    def getter(self):\n",
        "        print('Getting value')\n",
        "        return self._value\n",
        "\n",
        "    # setting the values\n",
        "    def setter(self, value):\n",
        "        print('Setting value to ' + value)\n",
        "        self._value = value\n",
        "\n",
        "    # deleting the values\n",
        "    def deleter(self):\n",
        "        print('Deleting value')\n",
        "        del self._value\n",
        "\n",
        "    # create a properties\n",
        "    value = property(getter, setter, deleter, )\n",
        "\n",
        "# create a gfg class object\n",
        "x = gfg('Happy Coding!')\n",
        "print(x.value)\n",
        "\n",
        "x.value = 'Hey Coder!'\n",
        "\n",
        "# deleting the value\n",
        "del x.value"
      ],
      "metadata": {
        "colab": {
          "base_uri": "https://localhost:8080/"
        },
        "id": "xgB5l76cXIsj",
        "outputId": "0fa0c605-7591-480f-9b54-510f7947a9fd"
      },
      "execution_count": 75,
      "outputs": [
        {
          "output_type": "stream",
          "name": "stdout",
          "text": [
            "Getting value\n",
            "Happy Coding!\n",
            "Setting value to Hey Coder!\n",
            "Deleting value\n"
          ]
        }
      ]
    },
    {
      "cell_type": "markdown",
      "source": [
        "## R"
      ],
      "metadata": {
        "id": "bFpLEsZwR87a"
      }
    },
    {
      "cell_type": "code",
      "source": [
        "print(range(0,5))"
      ],
      "metadata": {
        "colab": {
          "base_uri": "https://localhost:8080/"
        },
        "id": "lP3U6ofHR_r_",
        "outputId": "5f2643a3-2529-4423-dbc0-b7fb6bed7879"
      },
      "execution_count": 77,
      "outputs": [
        {
          "output_type": "stream",
          "name": "stdout",
          "text": [
            "range(0, 5)\n"
          ]
        }
      ]
    },
    {
      "cell_type": "code",
      "source": [
        "s = 'Hello, Geeks.'\n",
        "print (repr(s))\n",
        "print (repr(2.0/11.0))\n",
        "\n",
        "#returns a printable string\n",
        "x = 10\n",
        "print(type(repr(x)))\n",
        "print(repr(['a', 'b', 'c']))\n",
        "num = {1, 2, 3, 4, 5}\n",
        "\n",
        "# printable representation of the set\n",
        "printable_num = repr(num)\n",
        "print(printable_num)"
      ],
      "metadata": {
        "colab": {
          "base_uri": "https://localhost:8080/"
        },
        "id": "UXkzJVNjazcN",
        "outputId": "a8d9a875-9943-4c07-9447-a70e708172d2"
      },
      "execution_count": 80,
      "outputs": [
        {
          "output_type": "stream",
          "name": "stdout",
          "text": [
            "'Hello, Geeks.'\n",
            "0.18181818181818182\n",
            "<class 'str'>\n",
            "['a', 'b', 'c']\n",
            "{1, 2, 3, 4, 5}\n"
          ]
        }
      ]
    },
    {
      "cell_type": "code",
      "source": [
        "alph = [\"a\", \"b\", \"c\", \"d\"]\n",
        "ralph = reversed(alph)\n",
        "for x in ralph:\n",
        "  print(x)"
      ],
      "metadata": {
        "colab": {
          "base_uri": "https://localhost:8080/"
        },
        "id": "7oSLEDSpcL3b",
        "outputId": "13388111-19c7-4a14-eee9-97d00b6fd28d"
      },
      "execution_count": 85,
      "outputs": [
        {
          "output_type": "stream",
          "name": "stdout",
          "text": [
            "d\n",
            "c\n",
            "b\n",
            "a\n"
          ]
        }
      ]
    },
    {
      "cell_type": "code",
      "source": [
        "round(5.55)"
      ],
      "metadata": {
        "colab": {
          "base_uri": "https://localhost:8080/"
        },
        "id": "39oi7-YQcwcH",
        "outputId": "9b751dc7-7b98-4961-9a8a-8e2adbc9a990"
      },
      "execution_count": 86,
      "outputs": [
        {
          "output_type": "execute_result",
          "data": {
            "text/plain": [
              "6"
            ]
          },
          "metadata": {},
          "execution_count": 86
        }
      ]
    },
    {
      "cell_type": "markdown",
      "source": [
        "## S"
      ],
      "metadata": {
        "id": "fa-EGVPgSALU"
      }
    },
    {
      "cell_type": "code",
      "source": [
        "#empty set\n",
        "s = set()\n",
        "print(s)\n",
        "#list to set\n",
        "lis1 = [ 3, 4, 1, 4, 5 ]\n",
        "print(\"The list before conversion is : \", lis1)\n",
        "print(\"The list after conversion is : \" , set(lis1))\n",
        "\n",
        "#list to set\n",
        "touple = ( 3, 4, 1, 4, 5 )\n",
        "print(\"The list before conversion is : \", touple)\n",
        "print(\"The list after conversion is : \" , set(touple))\n",
        "\n",
        "# dicto to set\n",
        "dic1 = { 4 : 'geeks', 1 : 'for', 3 : 'geeks' }\n",
        "print(\"The list before conversion is : \", dic1)\n",
        "print(\"The list after conversion is : \" , set(dic1))\n",
        "\n",
        "#RANGE TO set\n",
        "r = range(5)\n",
        "print(set(r))"
      ],
      "metadata": {
        "colab": {
          "base_uri": "https://localhost:8080/"
        },
        "id": "fdwn7qzcc3YO",
        "outputId": "da2f50a9-4790-4f5e-a173-5dd242c88534"
      },
      "execution_count": 106,
      "outputs": [
        {
          "output_type": "stream",
          "name": "stdout",
          "text": [
            "set()\n",
            "The list before conversion is :  [3, 4, 1, 4, 5]\n",
            "The list after conversion is :  {1, 3, 4, 5}\n",
            "The list before conversion is :  (3, 4, 1, 4, 5)\n",
            "The list after conversion is :  {1, 3, 4, 5}\n",
            "The list before conversion is :  {4: 'geeks', 1: 'for', 3: 'geeks'}\n",
            "The list after conversion is :  {1, 3, 4}\n",
            "{0, 1, 2, 3, 4}\n"
          ]
        }
      ]
    },
    {
      "cell_type": "code",
      "source": [
        "class Person:\n",
        "  name = \"John\"\n",
        "  age = 36\n",
        "  country = \"Norway\"\n",
        "\n",
        "setattr(Person, 'age', 40)"
      ],
      "metadata": {
        "id": "pBLL-atfgzoy"
      },
      "execution_count": 107,
      "outputs": []
    },
    {
      "cell_type": "code",
      "source": [
        "# slice(start, end, step)\n",
        "a = (\"a\", \"b\", \"c\", \"d\", \"e\", \"f\", \"g\", \"h\")\n",
        "x = slice(2)\n",
        "print(a[x])\n",
        "\n",
        "a = (\"a\", \"b\", \"c\", \"d\", \"e\", \"f\", \"g\", \"h\")\n",
        "x = slice(3, 5)\n",
        "print(a[x])\n",
        "\n",
        "a = (\"a\", \"b\", \"c\", \"d\", \"e\", \"f\", \"g\", \"h\")\n",
        "x = slice(0, 8, 3)\n",
        "print(a[x])"
      ],
      "metadata": {
        "colab": {
          "base_uri": "https://localhost:8080/"
        },
        "id": "KoriuSqsg2SV",
        "outputId": "026f6e30-bbee-4cba-e05f-ca2ef8ce48e3"
      },
      "execution_count": 108,
      "outputs": [
        {
          "output_type": "stream",
          "name": "stdout",
          "text": [
            "('a', 'b')\n",
            "('d', 'e')\n",
            "('a', 'd', 'g')\n"
          ]
        }
      ]
    },
    {
      "cell_type": "code",
      "source": [
        "sorted(touple)"
      ],
      "metadata": {
        "colab": {
          "base_uri": "https://localhost:8080/"
        },
        "id": "DrFmZ-l8g4NP",
        "outputId": "c09d0777-83d5-46ef-ca47-d817e272d8fa"
      },
      "execution_count": 109,
      "outputs": [
        {
          "output_type": "execute_result",
          "data": {
            "text/plain": [
              "[1, 3, 4, 4, 5]"
            ]
          },
          "metadata": {},
          "execution_count": 109
        }
      ]
    },
    {
      "cell_type": "code",
      "source": [
        "class MathUtils:\n",
        "    @staticmethod\n",
        "    def add(a, b):\n",
        "        return a + b\n",
        "\n",
        "result = MathUtils.add(9, 8)\n",
        "print(result)\n",
        "\n",
        "class demoClass:\n",
        "\n",
        "    def greet(msg):\n",
        "        return msg\n",
        "\n",
        "\n",
        "# convert the greet to a static method\n",
        "demoClass.greet = staticmethod(demoClass.greet)\n",
        "\n",
        "# we can access the method without\n",
        "# creating the instance of class\n",
        "print(demoClass.greet(\"Demo class is Today\"))\n",
        "\n",
        "\n",
        "class demoClass:\n",
        "\n",
        "    def __init__(self, a, b):\n",
        "        self.a = a\n",
        "        self.b = b\n",
        "\n",
        "    def add(a, b):\n",
        "        return a+b\n",
        "\n",
        "    def diff(self):\n",
        "        return self.a-self.b\n",
        "\n",
        "\n",
        "# convert the add to a static method\n",
        "demoClass.add = staticmethod(demoClass.add)\n",
        "\n",
        "# we can access the method without creating\n",
        "# the instance of class\n",
        "print(demoClass.add(1, 2))\n",
        "\n",
        "# if we want to use properties of a class\n",
        "# then we need to create a object\n",
        "Object = demoClass(1, 2)\n",
        "print(Object.diff())\n",
        "\n",
        "\n",
        "class MathUtils:\n",
        "    num = 40\n",
        "\n",
        "    @staticmethod\n",
        "    def double():\n",
        "        return MathUtils.num * 2\n",
        "\n",
        "result = MathUtils.double()\n",
        "print(result)\n",
        "\n",
        "\n",
        "\n",
        "class Formatter:\n",
        "    @staticmethod\n",
        "    def format_name(first_name, last_name):\n",
        "        return f\"{last_name}, {first_name}\"\n",
        "\n",
        "formatted_name = Formatter.format_name(\"For Geeks\", \"Geeks\")\n",
        "print(formatted_name)"
      ],
      "metadata": {
        "colab": {
          "base_uri": "https://localhost:8080/"
        },
        "id": "DNuk6Gw4g6Ke",
        "outputId": "55b70d94-fa3e-4dc8-a9c8-e3060d9e751a"
      },
      "execution_count": 110,
      "outputs": [
        {
          "output_type": "stream",
          "name": "stdout",
          "text": [
            "17\n",
            "Demo class is Today\n",
            "3\n",
            "-1\n",
            "80\n",
            "Geeks, For Geeks\n"
          ]
        }
      ]
    },
    {
      "cell_type": "code",
      "source": [
        "x = str(3.5)"
      ],
      "metadata": {
        "colab": {
          "base_uri": "https://localhost:8080/",
          "height": 141
        },
        "id": "vDRGNqGwg73e",
        "outputId": "e5989ac4-c903-492f-aa39-072cd3ab232f"
      },
      "execution_count": 114,
      "outputs": [
        {
          "output_type": "error",
          "ename": "TypeError",
          "evalue": "'str' object is not callable",
          "traceback": [
            "\u001b[0;31m---------------------------------------------------------------------------\u001b[0m",
            "\u001b[0;31mTypeError\u001b[0m                                 Traceback (most recent call last)",
            "\u001b[0;32m<ipython-input-114-0309e0cad44e>\u001b[0m in \u001b[0;36m<cell line: 1>\u001b[0;34m()\u001b[0m\n\u001b[0;32m----> 1\u001b[0;31m \u001b[0mx\u001b[0m \u001b[0;34m=\u001b[0m \u001b[0mstr\u001b[0m\u001b[0;34m(\u001b[0m\u001b[0;36m3.5\u001b[0m\u001b[0;34m)\u001b[0m\u001b[0;34m\u001b[0m\u001b[0;34m\u001b[0m\u001b[0m\n\u001b[0m",
            "\u001b[0;31mTypeError\u001b[0m: 'str' object is not callable"
          ]
        }
      ]
    },
    {
      "cell_type": "code",
      "source": [
        "sum(a4)"
      ],
      "metadata": {
        "colab": {
          "base_uri": "https://localhost:8080/"
        },
        "id": "0p90Iymkg94f",
        "outputId": "272c65d0-8ded-4dc2-8f12-a28b01d2f2dc"
      },
      "execution_count": 116,
      "outputs": [
        {
          "output_type": "execute_result",
          "data": {
            "text/plain": [
              "3"
            ]
          },
          "metadata": {},
          "execution_count": 116
        }
      ]
    },
    {
      "cell_type": "code",
      "source": [
        "# super() Create a class that will inherit all the methods and properties from another class:\n",
        "class Parent:\n",
        "  def __init__(self, txt):\n",
        "    self.message = txt\n",
        "\n",
        "  def printmessage(self):\n",
        "    print(self.message)\n",
        "\n",
        "class Child(Parent):\n",
        "  def __init__(self, txt):\n",
        "    super().__init__(txt)\n",
        "\n",
        "x = Child(\"Hello, and welcome!\")\n",
        "\n",
        "x.printmessage()"
      ],
      "metadata": {
        "colab": {
          "base_uri": "https://localhost:8080/"
        },
        "id": "iGZLw6QIg_w-",
        "outputId": "8324b56c-5657-433c-ae8f-d0387dd09a70"
      },
      "execution_count": 117,
      "outputs": [
        {
          "output_type": "stream",
          "name": "stdout",
          "text": [
            "Hello, and welcome!\n"
          ]
        }
      ]
    },
    {
      "cell_type": "markdown",
      "source": [
        "## T"
      ],
      "metadata": {
        "id": "lG1zh7ZAc-AE"
      }
    },
    {
      "cell_type": "code",
      "source": [
        "# when parameter is not passed\n",
        "tuple1 = tuple()\n",
        "print(\"empty tuple:\", tuple1)\n",
        "\n",
        "# when an iterable(e.g., list) is passed\n",
        "list1= [ 1, 2, 3, 4 ]\n",
        "tuple2 = tuple(list1)\n",
        "print(\"list to tuple:\", tuple2)\n",
        "\n",
        "# when an iterable(e.g., string) is passed\n",
        "string = \"geeksforgeeks\";\n",
        "tuple4 = tuple(string)\n",
        "print(\"str to tuple:\", tuple4)\n",
        "\n",
        "#dict to tuple\n",
        "my_dict = {'apple': 1, 'banana': 2, 'cherry': 3}\n",
        "my_tuple = tuple(my_dict.items())\n",
        "print(my_tuple)\n",
        "\n",
        "print(len(my_tuple))\n",
        "print(min(tuple2))\n",
        "print(max(tuple2))\n",
        "print(sum(tuple2))\n",
        "sorted(tuple4)"
      ],
      "metadata": {
        "colab": {
          "base_uri": "https://localhost:8080/"
        },
        "id": "PzWvAqvadAaN",
        "outputId": "3f9166bc-e2ba-48f8-f889-6102b534646e"
      },
      "execution_count": 93,
      "outputs": [
        {
          "output_type": "stream",
          "name": "stdout",
          "text": [
            "empty tuple: ()\n",
            "list to tuple: (1, 2, 3, 4)\n",
            "str to tuple: ('g', 'e', 'e', 'k', 's', 'f', 'o', 'r', 'g', 'e', 'e', 'k', 's')\n",
            "(('apple', 1), ('banana', 2), ('cherry', 3))\n",
            "3\n",
            "1\n",
            "4\n",
            "10\n"
          ]
        },
        {
          "output_type": "execute_result",
          "data": {
            "text/plain": [
              "['e', 'e', 'e', 'e', 'f', 'g', 'g', 'k', 'k', 'o', 'r', 's', 's']"
            ]
          },
          "metadata": {},
          "execution_count": 93
        }
      ]
    },
    {
      "cell_type": "code",
      "source": [
        "type(a1)"
      ],
      "metadata": {
        "colab": {
          "base_uri": "https://localhost:8080/"
        },
        "id": "FV82YASAdBkc",
        "outputId": "2e95966c-a89b-4419-c2fe-bd15cbc3f959"
      },
      "execution_count": 87,
      "outputs": [
        {
          "output_type": "execute_result",
          "data": {
            "text/plain": [
              "list"
            ]
          },
          "metadata": {},
          "execution_count": 87
        }
      ]
    },
    {
      "cell_type": "markdown",
      "source": [
        "# V"
      ],
      "metadata": {
        "id": "b8VirTPudCED"
      }
    },
    {
      "cell_type": "code",
      "source": [
        "class Person:\n",
        "  name = \"John\"\n",
        "  age = 36\n",
        "  country = \"norway\"\n",
        "\n",
        "x = vars(Person)\n",
        "print(x)"
      ],
      "metadata": {
        "colab": {
          "base_uri": "https://localhost:8080/"
        },
        "id": "S1JvcJmwdE3x",
        "outputId": "5361342e-6065-43c3-e8a5-f049a7b21db5"
      },
      "execution_count": 95,
      "outputs": [
        {
          "output_type": "stream",
          "name": "stdout",
          "text": [
            "{'__module__': '__main__', 'name': 'John', 'age': 36, 'country': 'norway', '__dict__': <attribute '__dict__' of 'Person' objects>, '__weakref__': <attribute '__weakref__' of 'Person' objects>, '__doc__': None}\n"
          ]
        }
      ]
    },
    {
      "cell_type": "markdown",
      "source": [
        "# Z"
      ],
      "metadata": {
        "id": "ZYkYKPGqdF59"
      }
    },
    {
      "cell_type": "code",
      "source": [
        "a = (\"John\", \"Charles\", \"Mike\")\n",
        "b = (\"Jenny\", \"Christy\", \"Monica\")\n",
        "\n",
        "x = zip(a, b)\n",
        "for i in x:\n",
        "  print(i)\n",
        "\n",
        "names = ['John', 'Alice', 'Bob', 'Lucy']\n",
        "scores = [85, 90, 78, 92]\n",
        "\n",
        "res = zip(names, scores)\n",
        "print(list(res))"
      ],
      "metadata": {
        "colab": {
          "base_uri": "https://localhost:8080/"
        },
        "id": "0pYAzUo1dHak",
        "outputId": "a8bbb6ad-cea3-4cc3-c5f4-3cb9d5b47d49"
      },
      "execution_count": 99,
      "outputs": [
        {
          "output_type": "stream",
          "name": "stdout",
          "text": [
            "('John', 'Jenny')\n",
            "('Charles', 'Christy')\n",
            "('Mike', 'Monica')\n",
            "[('John', 85), ('Alice', 90), ('Bob', 78), ('Lucy', 92)]\n"
          ]
        }
      ]
    }
  ]
}