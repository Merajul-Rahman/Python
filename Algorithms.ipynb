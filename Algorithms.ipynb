{
  "nbformat": 4,
  "nbformat_minor": 0,
  "metadata": {
    "colab": {
      "provenance": [],
      "authorship_tag": "ABX9TyMPykA23SQGwRSS3n+ylV31",
      "include_colab_link": true
    },
    "kernelspec": {
      "name": "python3",
      "display_name": "Python 3"
    },
    "language_info": {
      "name": "python"
    }
  },
  "cells": [
    {
      "cell_type": "markdown",
      "metadata": {
        "id": "view-in-github",
        "colab_type": "text"
      },
      "source": [
        "<a href=\"https://colab.research.google.com/github/Merajul-Rahman/Python/blob/main/Algorithms.ipynb\" target=\"_parent\"><img src=\"https://colab.research.google.com/assets/colab-badge.svg\" alt=\"Open In Colab\"/></a>"
      ]
    },
    {
      "cell_type": "markdown",
      "source": [
        "# Searching algorithm"
      ],
      "metadata": {
        "id": "H0CNqOwbVnCE"
      }
    },
    {
      "cell_type": "markdown",
      "source": [
        "**Linear search:** It traverses the array or list sequentially, **comparing each element with the target element** until a match is found or the end of the data is reached.\n",
        "\n",
        "Time Complexity: Best case: O(1) (if the first element is the target)\n",
        "\n",
        "Average and Worst case: **O(n)**\n"
      ],
      "metadata": {
        "id": "UG9vvC5DNHNy"
      }
    },
    {
      "cell_type": "code",
      "execution_count": null,
      "metadata": {
        "colab": {
          "base_uri": "https://localhost:8080/"
        },
        "id": "YpdCM9JBVjsS",
        "outputId": "63ce74e6-cb61-440d-8fb6-d9faabf8fc28"
      },
      "outputs": [
        {
          "output_type": "stream",
          "name": "stdout",
          "text": [
            "Enter the number to search5\n",
            "Number  5 is found at  13\n"
          ]
        }
      ],
      "source": [
        "#Linear search\n",
        "a = [15, 3, 42, 8, 23, 7, 91, 10, 56, 2, 18, 67, 30, 5, 76, 20]\n",
        "x = int(input(\"Enter the number to search\"))\n",
        "t = 0\n",
        "for i in range(len(a)):\n",
        "  if a[i]==x:\n",
        "    t = 1\n",
        "    break;\n",
        "if t==1:\n",
        "  print(\"Number \",x, \"is found at \", i)\n",
        "else:\n",
        "  print(\"Number not found\")\n",
        "\n"
      ]
    },
    {
      "cell_type": "markdown",
      "source": [
        "**Binary search** is a highly efficient algorithm for finding a target value in a **sorted array or list**. The basic idea is to **repeatedly divide the search interval in half**. If the value of the search key is less than the item in the middle, the search continues in the lower half, or else it continues in the upper half. This continues until the target value is found or the search interval is empty.\n",
        "\n",
        "Time Complexity:\n",
        "Best case: O(1) (if the middle element is the target)\n",
        "\n",
        "Average and Worst case: **O(log n)**"
      ],
      "metadata": {
        "id": "Wv2v8r9pNdUB"
      }
    },
    {
      "cell_type": "code",
      "source": [
        "# Binary search\n",
        "\n",
        "a1 = [15, 3, 42, 8, 23, 7, 91, 10, 56, 2, 18, 67, 30, 5, 76, 20]\n",
        "a1.sort()\n",
        "print(a1)\n",
        "\n",
        "x = int(input(\"Enter the number to search\"))\n",
        "l = 0\n",
        "h = len(a1)-1\n",
        "t = 0\n",
        "while l<=h:\n",
        "  m = int((l + h)/2)\n",
        "  print(\"l = \",l,\" m = \",m,\" h = \",h)\n",
        "  if a1[m] == x:\n",
        "    t = 1\n",
        "    break\n",
        "  elif a1[m] > x:\n",
        "    h = m-1\n",
        "  else:\n",
        "    l = m+1\n",
        "\n",
        "if t==1:\n",
        "  print(\"Number \",x, \"is found at \", m)\n",
        "else:\n",
        "  print(\"Number not found\")\n",
        "\n",
        "\n",
        "\n"
      ],
      "metadata": {
        "colab": {
          "base_uri": "https://localhost:8080/"
        },
        "id": "5n2SR1cBW8Pz",
        "outputId": "1f20756b-d826-4e72-d623-3f5f30e67ad1"
      },
      "execution_count": null,
      "outputs": [
        {
          "output_type": "stream",
          "name": "stdout",
          "text": [
            "[2, 3, 5, 7, 8, 10, 15, 18, 20, 23, 30, 42, 56, 67, 76, 91]\n",
            "Enter the number to search100\n",
            "l =  0  m =  7  h =  15\n",
            "l =  8  m =  11  h =  15\n",
            "l =  12  m =  13  h =  15\n",
            "l =  14  m =  14  h =  15\n",
            "l =  15  m =  15  h =  15\n",
            "Number not found\n"
          ]
        }
      ]
    },
    {
      "cell_type": "markdown",
      "source": [
        "## Sorting algorithms"
      ],
      "metadata": {
        "id": "yCPa5zXPcKZ3"
      }
    },
    {
      "cell_type": "code",
      "source": [
        "import time"
      ],
      "metadata": {
        "id": "2qjbmGyJeET_"
      },
      "execution_count": 2,
      "outputs": []
    },
    {
      "cell_type": "markdown",
      "source": [
        "**Bubble Sort** is a simple sorting algorithm that repeatedly steps through the list, **compares adjacent elements, and swaps them if they are in the wrong order**. The process is repeated for every element in the list until the list is sorted.\n",
        "\n",
        "Time Complexity:\n",
        "Best case: O(n) when the array is already sorted.\n",
        "Average case: O(n^2)\n",
        "Worst case: O(n^2)"
      ],
      "metadata": {
        "id": "UK1xA7JrQ54p"
      }
    },
    {
      "cell_type": "code",
      "source": [
        "# Bubble sort\n",
        "b = [15, 3, 42, 8, 23, 7, 91, 10, 56, 2, 18, 67, 30, 5, 76, 20]\n",
        "print(\"Before sorting: \",b)\n",
        "start_time = time.time()\n",
        "for i in range(len(b)):\n",
        "  for j in range(len(b)):\n",
        "    if b[i]<b[j]:\n",
        "      temp = b[i]\n",
        "      b[i] = b [j]\n",
        "      b[j] = temp\n",
        "end_time = time.time()\n",
        "\n",
        "\n",
        "print(\"after sorting \",b)\n",
        "\n",
        "# Calculate and print elapsed time\n",
        "elapsed_time = end_time - start_time\n",
        "print(f\"Elapsed Time: {elapsed_time} seconds\")"
      ],
      "metadata": {
        "colab": {
          "base_uri": "https://localhost:8080/"
        },
        "id": "uToJxexWeMr4",
        "outputId": "56d3d181-2aba-415e-a536-fa0ce73d504b"
      },
      "execution_count": 6,
      "outputs": [
        {
          "output_type": "stream",
          "name": "stdout",
          "text": [
            "Before sorting:  [15, 3, 42, 8, 23, 7, 91, 10, 56, 2, 18, 67, 30, 5, 76, 20]\n",
            "after sorting  [2, 3, 5, 7, 8, 10, 15, 18, 20, 23, 30, 42, 56, 67, 76, 91]\n",
            "Elapsed Time: 0.00018262863159179688 seconds\n"
          ]
        }
      ]
    },
    {
      "cell_type": "code",
      "source": [
        "# Bubble sort optimized\n",
        "b = [15, 3, 42, 8, 23, 7, 91, 10, 56, 2, 18, 67, 30, 5, 76, 20]\n",
        "print(\"Before sorting: \",b)\n",
        "start_time = time.time()\n",
        "for i in range(len(b)):\n",
        "  swapped = False  # Flag to check if any swap occurred in the current pass\n",
        "  for j in range(len(b)-i-1):\n",
        "    if b[j]>b[j+1]:\n",
        "      temp = b[i]\n",
        "      b[i] = b [j]\n",
        "      b[j] = temp\n",
        "      swapped = True  # Set swapped flag to True\\\n",
        "  # If no two elements were swapped by inner loop, break the loop (array is sorted)\n",
        "    if not swapped:\n",
        "      break\n",
        "\n",
        "end_time = time.time()\n",
        "\n",
        "\n",
        "print(\"after sorting \",b)\n",
        "\n",
        "# Calculate and print elapsed time\n",
        "elapsed_time = end_time - start_time\n",
        "print(f\"Elapsed Time: {elapsed_time} seconds\")"
      ],
      "metadata": {
        "colab": {
          "base_uri": "https://localhost:8080/"
        },
        "id": "gYTRb1AHXqtb",
        "outputId": "d2e39b67-fb85-4ba0-82b6-87a8d76a88a9"
      },
      "execution_count": 7,
      "outputs": [
        {
          "output_type": "stream",
          "name": "stdout",
          "text": [
            "Before sorting:  [15, 3, 42, 8, 23, 7, 91, 10, 56, 2, 18, 67, 30, 5, 76, 20]\n",
            "after sorting  [3, 67, 76, 8, 15, 7, 42, 10, 23, 2, 18, 56, 91, 5, 30, 20]\n",
            "Elapsed Time: 0.0003342628479003906 seconds\n"
          ]
        }
      ]
    },
    {
      "cell_type": "markdown",
      "source": [
        "Why n-i-1?\n",
        "Array Size Reduction:\n",
        "\n",
        "After the first pass, the largest element has \"bubbled\" to the end of the array, so we don't need to compare it again in subsequent passes.\n",
        "On the second pass, the second largest element will be in its correct position (just before the last element), so we don't need to compare it with the largest element anymore.\n",
        "This pattern continues with each pass, so the number of elements that need to be compared reduces with every iteration.\n",
        "Loop Boundaries:\n",
        "\n",
        "The outer loop (i) runs from 0 to n-1, where n is the length of the array.\n",
        "For each pass, the inner loop (j) goes through the elements that are yet to be fully sorted.\n",
        "By the i-th pass, the last i elements are already in their correct positions (sorted), and so we only need to compare the remaining n-i-1 elements in the inner loop.\n",
        "Reducing Comparisons:\n",
        "\n",
        "After the first pass, the last element is sorted, so we reduce the inner loop range to n-1 elements.\n",
        "After the second pass, the last two elements are sorted, so we reduce the range to n-2, and so on."
      ],
      "metadata": {
        "id": "sAzYX6WYSm4E"
      }
    },
    {
      "cell_type": "markdown",
      "source": [
        "**Selection Sort** is a simple sorting algorithm that divides the array into two parts:\n",
        "\n",
        "A sorted subarray (built from left to right).\n",
        "\n",
        "The remaining unsorted subarray.\n",
        "\n",
        "It repeatedly selects the smallest (or largest) element from the unsorted part and places it in the sorted part."
      ],
      "metadata": {
        "id": "xyxjy1y-wiAh"
      }
    },
    {
      "cell_type": "markdown",
      "source": [
        "Start with the first element of the array.\n",
        "\n",
        "Find the smallest element in the unsorted portion of the array.\n",
        "\n",
        "Swap it with the current element being processed (starting from index 0).\n",
        "\n",
        "Move to the next element and repeat steps 2 and 3 until the array is sorted"
      ],
      "metadata": {
        "id": "9btZxXfHxCX9"
      }
    },
    {
      "cell_type": "markdown",
      "source": [
        "Time Complexity:\n",
        "\n",
        "**Best case:** O(n²)\n",
        "**Worst case: **O(n²)\n",
        "**Average case**: O(n²)\n",
        "(It performs n-1 comparisons in the first pass, n-2 in the second, and so on.)\n",
        "\n",
        "Space Complexity:\n",
        "O(1) (In-place sorting, no extra space required.)"
      ],
      "metadata": {
        "id": "cRTOPyRLxIIX"
      }
    },
    {
      "cell_type": "code",
      "source": [
        "def selection_sort(arr):\n",
        "  n = len(arr)\n",
        "  for i in range(n):\n",
        "    min_index = i\n",
        "    for j in range(i+1, n):\n",
        "      if arr[j] < arr[min_index]:\n",
        "        min_index = j\n",
        "    arr[i], arr[min_index] = arr[min_index], arr[i]\n",
        "  return arr\n",
        "\n",
        "\n",
        "array = [15, 3, 42, 8, 23, 7, 91, 10, 56, 2, 18, 67, 30, 5, 76, 20]\n",
        "print(\"Before sorting: \",array)\n",
        "\n",
        "start_time = time.time()\n",
        "array_sorted = selection_sort(array)\n",
        "end_time = time.time()\n",
        "\n",
        "print(\"after sorting \",array_sorted)\n",
        "\n",
        "# Calculate and print elapsed time\n",
        "elapsed_time = end_time - start_time\n",
        "print(f\"Elapsed Time: {elapsed_time} seconds\")"
      ],
      "metadata": {
        "colab": {
          "base_uri": "https://localhost:8080/"
        },
        "id": "PwCDnobAxPAe",
        "outputId": "95602cfa-9c61-46d7-d510-ff531e45ea9c"
      },
      "execution_count": 17,
      "outputs": [
        {
          "output_type": "stream",
          "name": "stdout",
          "text": [
            "Before sorting:  [15, 3, 42, 8, 23, 7, 91, 10, 56, 2, 18, 67, 30, 5, 76, 20]\n",
            "after sorting  [2, 3, 5, 7, 8, 10, 15, 18, 20, 23, 30, 42, 56, 67, 76, 91]\n",
            "Elapsed Time: 0.0001251697540283203 seconds\n"
          ]
        }
      ]
    },
    {
      "cell_type": "markdown",
      "source": [
        "**Quick Sort** is a highly efficient **divide-and-conquer** sorting algorithm. It works by selecting a **pivot** element, then **partitioning** the array into **two** parts:\n",
        "\n",
        "**Elements smaller than the pivot and Elements greater than the pivot.**\n",
        "The algorithm recursively applies the same process to the sub-arrays until the entire array is sorted.\n",
        "\n",
        "\n",
        "Best Case: O(n log n)\n",
        "\n",
        "Worst Case: O(n²) (when the pivot divides the array into highly uneven parts)\n",
        "\n",
        "Average Case: O(n log n)\n",
        "\n",
        "Space Complexity: O(n)\n",
        "\n",
        "O(log n) for recursive calls. (inline)"
      ],
      "metadata": {
        "id": "rMhDi_bZSoYi"
      }
    },
    {
      "cell_type": "markdown",
      "source": [
        "**Choose a Pivot:**\n",
        "You can pick any element as the pivot (commonly the last, first, or middle element).\n",
        "\n",
        "**Partition the Array:**\n",
        "  Rearrange the array such that:\n",
        "  \n",
        "1.   Elements smaller than the pivot go to its left.\n",
        "2.   Elements larger than the pivot go to its right.\n",
        "\n",
        "**Recursively Sort Sub-arrays**:\n",
        "Apply the same logic to the left and right sub-arrays.\n",
        "\n",
        "**Combine the results**."
      ],
      "metadata": {
        "id": "tV1f_xX-THiF"
      }
    },
    {
      "cell_type": "code",
      "source": [
        "def quick_sort(arr):\n",
        "  if len(arr)<=1:\n",
        "    return arr\n",
        "  pivot = arr[-1] #taking the last element as pivot\n",
        "  left, right, middle = [],[],[]\n",
        "  for num in arr:\n",
        "    if num < pivot:\n",
        "      left.append(num)\n",
        "    elif num > pivot:\n",
        "      right.append(num)\n",
        "    else:\n",
        "      middle.append(num)\n",
        "  return quick_sort(left) + middle + quick_sort(right)\n",
        "\n",
        "\n",
        "\n",
        "array = [15, 3, 42, 8, 23, 7, 91, 10, 56, 2, 18, 67, 30, 5, 76, 20]\n",
        "print(\"Before sorting: \",array)\n",
        "\n",
        "start_time = time.time()\n",
        "b_sort = quick_sort(array)\n",
        "end_time = time.time()\n",
        "\n",
        "print(\"after sorting \",b_sort)\n",
        "\n",
        "# Calculate and print elapsed time\n",
        "elapsed_time = end_time - start_time\n",
        "print(f\"Elapsed Time: {elapsed_time} seconds\")"
      ],
      "metadata": {
        "id": "h0iSaspzcxis",
        "colab": {
          "base_uri": "https://localhost:8080/"
        },
        "outputId": "7716516e-e6bf-4d88-bd33-6fb69f2c520f"
      },
      "execution_count": 12,
      "outputs": [
        {
          "output_type": "stream",
          "name": "stdout",
          "text": [
            "Before sorting:  [15, 3, 42, 8, 23, 7, 91, 10, 56, 2, 18, 67, 30, 5, 76, 20]\n",
            "after sorting  [2, 3, 5, 7, 8, 10, 15, 18, 20, 23, 30, 42, 56, 67, 76, 91]\n",
            "Elapsed Time: 0.00017690658569335938 seconds\n"
          ]
        }
      ]
    },
    {
      "cell_type": "code",
      "source": [
        "# In-Place Partitioning Quick Sort\n",
        "# For an in-place implementation (reduces space complexity), partition the array in place using pointers.\n",
        "\n",
        "def partition(arr, low, high):\n",
        "  pivot = arr[high]  # Choosing the last element as the pivot\n",
        "  i = low - 1        # Pointer for smaller elements\n",
        "  for j in range(low, high):\n",
        "    if arr[j] < pivot:\n",
        "      i +=1\n",
        "      arr[i], arr[j] = arr[j], arr[i]\n",
        "    # Place the pivot in the correct position\n",
        "  arr[i + 1], arr[high] = arr[high], arr[i + 1]\n",
        "  return i + 1\n",
        "\n",
        "\n",
        "def quick_sort_inline(arr, low, high):\n",
        "  if low < high:\n",
        "    pivot_index = partition(arr, low, high)\n",
        "    quick_sort_inline(arr, low, pivot_index - 1)\n",
        "    quick_sort_inline(arr, pivot_index+1, high)\n",
        "\n",
        "\n",
        "array = [15, 3, 42, 8, 23, 7, 91, 10, 56, 2, 18, 67, 30, 5, 76, 20]\n",
        "print(\"Before sorting: \",array)\n",
        "\n",
        "start_time = time.time()\n",
        "quick_sort_inline(array, 0, len(array)-1)\n",
        "end_time = time.time()\n",
        "\n",
        "print(\"after sorting \",array)\n",
        "\n",
        "# Calculate and print elapsed time\n",
        "elapsed_time = end_time - start_time\n",
        "print(f\"Elapsed Time: {elapsed_time} seconds\")\n"
      ],
      "metadata": {
        "colab": {
          "base_uri": "https://localhost:8080/"
        },
        "id": "QOIPL2-3WUJW",
        "outputId": "f86c8045-1cf2-439e-d35e-f474b5db53bb"
      },
      "execution_count": 15,
      "outputs": [
        {
          "output_type": "stream",
          "name": "stdout",
          "text": [
            "Before sorting:  [15, 3, 42, 8, 23, 7, 91, 10, 56, 2, 18, 67, 30, 5, 76, 20]\n",
            "after sorting  [2, 3, 5, 7, 8, 10, 15, 18, 20, 23, 30, 42, 56, 67, 76, 91]\n",
            "Elapsed Time: 0.00017952919006347656 seconds\n"
          ]
        }
      ]
    },
    {
      "cell_type": "markdown",
      "source": [
        "**Insertion Sort** is a simple sorting algorithm that builds the final sorted array one element at a time. It works similarly to the way you sort playing cards in your hands by repeatedly picking the next card and inserting it into its correct position among the previously sorted cards."
      ],
      "metadata": {
        "id": "ARDqPfwq4zUg"
      }
    },
    {
      "cell_type": "markdown",
      "source": [
        "1. Assume the first element is already sorted.\n",
        "2. Take the next element (the first unsorted one) and compare it with elements in the sorted part.\n",
        "3. Shift all elements in the sorted part that are larger than the current element one position to the right.\n",
        "4. Insert the current element into its correct position in the sorted part.\n",
        "5. Repeat steps 2–4 until the entire array is sorted.\n",
        "\n",
        "\n"
      ],
      "metadata": {
        "id": "IBveU8YN-IRk"
      }
    },
    {
      "cell_type": "markdown",
      "source": [
        "Time Complexity:\n",
        "\n",
        "**Best case:** O(n) (when the array is already sorted; only one comparison per element).\n",
        "**Worst case:** O(n²) (when the array is sorted in reverse order).\n",
        "**Average case:** O(n²) (due to nested loops for shifting).\n",
        "\n",
        "Space Complexity:\n",
        "O(1) (In-place sorting, no extra space required)."
      ],
      "metadata": {
        "id": "HjTLkbuf-UXg"
      }
    },
    {
      "cell_type": "code",
      "source": [
        "def insertion_sort(arr):\n",
        "  for i in range(1,len(arr)):\n",
        "    key = arr[i]\n",
        "    j = i-1\n",
        "    while j>=0 and arr[j]>key:\n",
        "      arr[j+1] = arr[j]\n",
        "      j -=1\n",
        "    arr[j+1] = key\n",
        "  return arr\n",
        "\n",
        "\n",
        "array = [15, 3, 42, 8, 23, 7, 91, 10, 56, 2, 18, 67, 30, 5, 76, 20]\n",
        "print(\"Before sorting: \",array)\n",
        "\n",
        "start_time = time.time()\n",
        "array_sorted = insertion_sort(array)\n",
        "end_time = time.time()\n",
        "\n",
        "print(\"after sorting \",array_sorted)\n",
        "\n",
        "# Calculate and print elapsed time\n",
        "elapsed_time = end_time - start_time\n",
        "print(f\"Elapsed Time: {elapsed_time} seconds\")\n"
      ],
      "metadata": {
        "colab": {
          "base_uri": "https://localhost:8080/"
        },
        "id": "SPDfUHxg-lOu",
        "outputId": "5066640f-1c05-4160-ba6f-3b1ac2632088"
      },
      "execution_count": 19,
      "outputs": [
        {
          "output_type": "stream",
          "name": "stdout",
          "text": [
            "Before sorting:  [15, 3, 42, 8, 23, 7, 91, 10, 56, 2, 18, 67, 30, 5, 76, 20]\n",
            "after sorting  [2, 3, 5, 7, 8, 10, 15, 18, 20, 23, 30, 42, 56, 67, 76, 91]\n",
            "Elapsed Time: 0.00016069412231445312 seconds\n"
          ]
        }
      ]
    },
    {
      "cell_type": "markdown",
      "source": [
        "**Merge Sort** is a divide-and-conquer algorithm that recursively divides an array into two halves, sorts each half, and then merges them back together in sorted order. It is one of the most efficient sorting algorithms for large datasets."
      ],
      "metadata": {
        "id": "3UOtXRe3Svcz"
      }
    },
    {
      "cell_type": "markdown",
      "source": [
        "1. **Divide:** Recursively divide the array into two halves until each subarray contains only one element (a single element is inherently sorted).\n",
        "2. **Conquer:** Merge the subarrays back together in sorted order.\n",
        "3. **Combine:** Repeat the merging process until the entire array is sorted."
      ],
      "metadata": {
        "id": "CatI-lw-S7xG"
      }
    },
    {
      "cell_type": "markdown",
      "source": [
        "Time Complexity:\n",
        "1. Best Case: O(n log n)\n",
        "2. Worst Case: O(n log n)\n",
        "3. Average Case: O(n log n)\n",
        "**Explanation**: The array is divided in log n levels, and merging at each level takes O(n) time.\n",
        "\n",
        "Space Complexity: O(n) (for the temporary arrays used during merging)."
      ],
      "metadata": {
        "id": "QHo0HwJ0TCzE"
      }
    },
    {
      "cell_type": "code",
      "source": [
        "def merge_sort(arr):\n",
        "  n = len(arr)\n",
        "  if n>1:\n",
        "    #divide\n",
        "    mid = n//2\n",
        "    left = arr[:mid]\n",
        "    right = arr[mid:]\n",
        "    #conqure\n",
        "    merge_sort(left)\n",
        "    merge_sort(right)\n",
        "\n",
        "    #merge\n",
        "    i = j = k =0\n",
        "    while i<len(left) and j<len(right):\n",
        "      if left[i]<right[j]:\n",
        "        arr[k] = left[i]\n",
        "        i +=1\n",
        "      else:\n",
        "        arr[k] = right[j]\n",
        "        j +=1\n",
        "\n",
        "      k +=1\n",
        "\n",
        "    while i<len(left):\n",
        "      arr[k] = left[i]\n",
        "      i +=1\n",
        "      k +=1\n",
        "\n",
        "    while j<len(right):\n",
        "      arr[k] = right[j]\n",
        "      j +=1\n",
        "      k +=1\n",
        "\n",
        "\n",
        "array = [15, 3, 42, 8, 23, 7, 91, 10, 56, 2, 18, 67, 30, 5, 76, 20]\n",
        "print(\"Before sorting: \",array)\n",
        "\n",
        "start_time = time.time()\n",
        "merge_sort(array)\n",
        "end_time = time.time()\n",
        "\n",
        "print(\"after sorting \",array)\n",
        "\n",
        "# Calculate and print elapsed time\n",
        "elapsed_time = end_time - start_time\n",
        "print(f\"Elapsed Time: {elapsed_time} seconds\")"
      ],
      "metadata": {
        "colab": {
          "base_uri": "https://localhost:8080/"
        },
        "id": "2XdYYgCN_Q_s",
        "outputId": "5566e213-dce0-42cb-d211-05c4bd7839c5"
      },
      "execution_count": 23,
      "outputs": [
        {
          "output_type": "stream",
          "name": "stdout",
          "text": [
            "Before sorting:  [15, 3, 42, 8, 23, 7, 91, 10, 56, 2, 18, 67, 30, 5, 76, 20]\n",
            "after sorting  [2, 3, 5, 7, 8, 10, 15, 18, 20, 23, 30, 42, 56, 67, 76, 91]\n",
            "Elapsed Time: 0.00018143653869628906 seconds\n"
          ]
        }
      ]
    },
    {
      "cell_type": "code",
      "source": [],
      "metadata": {
        "id": "xWE_c4iTVHEo"
      },
      "execution_count": null,
      "outputs": []
    }
  ]
}