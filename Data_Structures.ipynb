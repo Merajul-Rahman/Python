{
  "nbformat": 4,
  "nbformat_minor": 0,
  "metadata": {
    "colab": {
      "provenance": [],
      "authorship_tag": "ABX9TyM2u8vZIZbnuhZk8hDWGPLW",
      "include_colab_link": true
    },
    "kernelspec": {
      "name": "python3",
      "display_name": "Python 3"
    },
    "language_info": {
      "name": "python"
    }
  },
  "cells": [
    {
      "cell_type": "markdown",
      "metadata": {
        "id": "view-in-github",
        "colab_type": "text"
      },
      "source": [
        "<a href=\"https://colab.research.google.com/github/Merajul-Rahman/Python/blob/main/Data_Structures.ipynb\" target=\"_parent\"><img src=\"https://colab.research.google.com/assets/colab-badge.svg\" alt=\"Open In Colab\"/></a>"
      ]
    },
    {
      "cell_type": "markdown",
      "source": [
        "Data structure is the way to store the data in an organized way such that data can be accessed and used efficiently.\n",
        "Common data structures are:\n",
        "1. Linear Data Structure.\n",
        "2. Non Linear Data Structure.\n",
        "3. Hash Based Structure."
      ],
      "metadata": {
        "id": "SVBw2DgMCpBr"
      }
    },
    {
      "cell_type": "markdown",
      "source": [
        "# Linear Data Structures"
      ],
      "metadata": {
        "id": "d_b65a8xDxaS"
      }
    },
    {
      "cell_type": "markdown",
      "source": [
        "Array: A collection of elements identified by an index.\n",
        "\n",
        "Access: O(1)\n",
        "Insertion/Deletion: O(n):"
      ],
      "metadata": {
        "id": "mQ2BDshcD41l"
      }
    },
    {
      "cell_type": "code",
      "source": [
        "# Array Example\n",
        "array = [10, 20, 30, 40]\n",
        "print(\"Original Array:\", array)\n",
        "\n",
        "# Access\n",
        "print(\"Element at index 1:\", array[1])\n",
        "\n",
        "# Modify\n",
        "array[1] = 25\n",
        "print(\"Modified Array:\", array)\n",
        "\n",
        "# Search\n",
        "if 30 in array:\n",
        "    print(\"30 is in the array.\")\n",
        "\n",
        "# Add and Remove\n",
        "array.append(50)  # Add element\n",
        "print(\"After Appending:\", array)\n",
        "array.remove(25)  # Remove element\n",
        "print(\"After Removing 25:\", array)\n"
      ],
      "metadata": {
        "colab": {
          "base_uri": "https://localhost:8080/"
        },
        "id": "PQjxK_g5DuON",
        "outputId": "d6b6cf19-9ec1-4cdf-d98c-ac08e3644187"
      },
      "execution_count": null,
      "outputs": [
        {
          "output_type": "stream",
          "name": "stdout",
          "text": [
            "Original Array: [10, 20, 30, 40]\n",
            "Element at index 1: 20\n",
            "Modified Array: [10, 25, 30, 40]\n",
            "30 is in the array.\n",
            "After Appending: [10, 25, 30, 40, 50]\n",
            "After Removing 25: [10, 30, 40, 50]\n"
          ]
        }
      ]
    },
    {
      "cell_type": "markdown",
      "source": [
        "Linked List: A collection of nodes where each node contains data and a reference (or pointer) to the next node\n",
        "\n",
        "Access: O(n)\n",
        "Insertion/Deletion: O(1)"
      ],
      "metadata": {
        "id": "H5sdCy7GE6S2"
      }
    },
    {
      "cell_type": "code",
      "source": [
        "class node:\n",
        "  def __init__(self, data):\n",
        "    self.data = data\n",
        "    self.next = None\n",
        "class linkedlist:\n",
        "  def __init__(self):\n",
        "    self.head = None\n",
        "\n",
        "  def insert(self, data):\n",
        "    new_node = node(data)\n",
        "    if self.head == None:\n",
        "      self.head = new_node\n",
        "    else:\n",
        "      current = self.head\n",
        "      while current.next:\n",
        "        current = current.next\n",
        "      current.next = new_node\n",
        "  def delete(self, data):\n",
        "    if self.head is None:\n",
        "      print(\"List is empty. Cannot delete.\")\n",
        "      return\n",
        "    if self.head.data == data:\n",
        "      self.head = self.head.next\n",
        "      print(f\"Deleted {data}\")\n",
        "      return\n",
        "    current = self.head\n",
        "    while current.next and current.next.data != data:\n",
        "            current = current.next\n",
        "    if current.next is None:  # If the value was not found\n",
        "      print(f\"Value {data} not found in the list.\")\n",
        "    else:\n",
        "      current.next = current.next.next  # Skip the node to delete\n",
        "      print(f\"Deleted {data}\")\n",
        "  # Insert a node at a specific position (1-based index)\n",
        "  def insert_at_position(self, data, position):\n",
        "        new_node = node(data)  # Create a new node\n",
        "\n",
        "        if position < 1:  # Validate position\n",
        "            print(\"Position should be greater than or equal to 1.\")\n",
        "            return\n",
        "\n",
        "        if position == 1:  # Insert at the head\n",
        "            new_node.next = self.head\n",
        "            self.head = new_node\n",
        "            return\n",
        "\n",
        "        # Traverse to the node before the specified position\n",
        "        current = self.head\n",
        "        count = 1\n",
        "\n",
        "        while current and count < position - 1:\n",
        "            current = current.next\n",
        "            count += 1\n",
        "\n",
        "        if not current:  # If position is out of bounds\n",
        "            print(f\"Position {position} is out of bounds.\")\n",
        "        else:\n",
        "            # Insert the new node at the specified position\n",
        "            new_node.next = current.next\n",
        "            current.next = new_node\n",
        "\n",
        "\n",
        "    # Display the linked list\n",
        "  def display(self):\n",
        "      if self.head is None:\n",
        "        print(\"List is empty.\")\n",
        "        return\n",
        "      current = self.head\n",
        "      print(\"Linked List:\", end=\" \")\n",
        "      while current:\n",
        "        print(current.data, end=\" -> \")\n",
        "        current = current.next\n",
        "      print(\"None\")\n",
        "\n",
        "\n",
        "ll = linkedlist()\n",
        "\n",
        "ll.display()  # Output: List is empty.\n",
        "\n",
        "ll.insert(10)\n",
        "ll.insert(20)\n",
        "ll.insert(30)\n",
        "ll.display()  # Output: Linked List: 10 -> 20 -> 30 -> None\n",
        "\n",
        "ll.delete(20)\n",
        "ll.display()  # Output: Linked List: 10 -> 30 -> None\n",
        "\n",
        "ll.insert_at_position(15, 2)\n",
        "ll.display()  # Output: Linked List: 10 -> 15 -> 30 -> None\n",
        "\n",
        "ll.insert_at_position(5, 1)\n",
        "ll.display()  # Output: Linked List: 5 -> 10 -> 15 -> 30 -> None\n",
        "\n",
        "\n",
        "ll.delete(40)  # Output: Value 40 not found in the list.\n",
        "ll.display()  # Output: Linked List: 10 -> 30 -> None"
      ],
      "metadata": {
        "id": "wvqhY_UOE3OK",
        "colab": {
          "base_uri": "https://localhost:8080/"
        },
        "outputId": "e6670ac4-8dc2-418c-d989-8b0966facd6a"
      },
      "execution_count": 7,
      "outputs": [
        {
          "output_type": "stream",
          "name": "stdout",
          "text": [
            "List is empty.\n",
            "Linked List: 10 -> 20 -> 30 -> None\n",
            "Deleted 20\n",
            "Linked List: 10 -> 30 -> None\n",
            "Linked List: 10 -> 15 -> 30 -> None\n",
            "Linked List: 5 -> 10 -> 15 -> 30 -> None\n",
            "Value 40 not found in the list.\n",
            "Linked List: 5 -> 10 -> 15 -> 30 -> None\n"
          ]
        }
      ]
    },
    {
      "cell_type": "markdown",
      "source": [
        "Stack: A collection that follows LIFO (Last In, Firs Out).\n",
        "\n",
        "Push/Pop: O(1)\n",
        "Search: O(n)\n"
      ],
      "metadata": {
        "id": "TALELdhEiEgR"
      }
    },
    {
      "cell_type": "code",
      "source": [
        "class stack:\n",
        "  def __init__(self):\n",
        "    self.stack = []\n",
        "  def push(self, data):\n",
        "    self.stack.append(data)\n",
        "  def pop(self):\n",
        "    if not self.is_empty():\n",
        "      return self.stack.pop()\n",
        "    else:\n",
        "      print(\"Stack is empty\")\n",
        "  def is_empty(self):\n",
        "    return len(self.stack) == 0\n",
        "  def peek(self):\n",
        "    if not self.is_empty():\n",
        "      return self.stack[-1]\n",
        "    else:\n",
        "      print(\"Stack is empty\")\n",
        "\n",
        "s = stack()\n",
        "s.push(10)\n",
        "s.push(20)\n",
        "s.push(30)\n",
        "print(s.pop())  # Output: 30\n",
        "print(s.peek())  # Output: 20"
      ],
      "metadata": {
        "colab": {
          "base_uri": "https://localhost:8080/"
        },
        "id": "aBJXCZTAgDAw",
        "outputId": "93cfdba3-80c8-4607-94b1-bd392ba72ea7"
      },
      "execution_count": 2,
      "outputs": [
        {
          "output_type": "stream",
          "name": "stdout",
          "text": [
            "30\n",
            "20\n"
          ]
        }
      ]
    },
    {
      "cell_type": "markdown",
      "source": [
        "Queue: A collection that follows first in first out.\n",
        "\n",
        "Push/Pop: O(1) Search: O(n)"
      ],
      "metadata": {
        "id": "Y09NNSgh_tDH"
      }
    },
    {
      "cell_type": "code",
      "source": [
        "class queue:\n",
        "  def __init__(self):\n",
        "    self.queue = []\n",
        "\n",
        "  def enqueue(self, data):\n",
        "    self.queue.append(data)\n",
        "\n",
        "  def dequeue(self):\n",
        "    if not self.is_empty():\n",
        "      return self.queue.pop(0)\n",
        "    else:\n",
        "      print(\"Queue is empty\")\n",
        "\n",
        "  def is_empty(self):\n",
        "    return len(self.queue) == 0\n",
        "\n",
        "  def peek(self):\n",
        "    if not self.is_empty():\n",
        "      return self.queue[0]\n",
        "    else:\n",
        "      print(\"Queue is empty\")\n",
        "\n",
        "q = queue()\n",
        "q.enqueue(10)\n",
        "q.enqueue(20)\n",
        "q.enqueue(30)\n",
        "\n",
        "print(q.dequeue())  # Output: 10\n",
        "print(q.peek())  # Output: 20\n",
        "\n"
      ],
      "metadata": {
        "colab": {
          "base_uri": "https://localhost:8080/"
        },
        "id": "-enFF-6A_OBD",
        "outputId": "74d14014-b308-44cb-f445-46f4abb8f91f"
      },
      "execution_count": 4,
      "outputs": [
        {
          "output_type": "stream",
          "name": "stdout",
          "text": [
            "20\n",
            "10\n"
          ]
        }
      ]
    },
    {
      "cell_type": "markdown",
      "source": [
        "# Non Linear Data Structure\n",
        "Elements are not arranged sequentially and can have hierarchical or interconnected relationships."
      ],
      "metadata": {
        "id": "L__2fUZzJMhf"
      }
    },
    {
      "cell_type": "markdown",
      "source": [
        "Tree: A hierarchical structure where each node has a parent and possibly multiple children.\n",
        "\n",
        "All: O(n)"
      ],
      "metadata": {
        "id": "0eRWsljsJSHk"
      }
    },
    {
      "cell_type": "code",
      "source": [
        "# Node class for Tree\n",
        "class TreeNode:\n",
        "    def __init__(self, data):\n",
        "        self.data = data\n",
        "        self.left = None\n",
        "        self.right = None\n",
        "\n",
        "# Inorder Traversal (Left, Root, Right)\n",
        "def inorder_traversal(root):\n",
        "    if root:\n",
        "        inorder_traversal(root.left)\n",
        "        print(root.data, end=\" \")\n",
        "        inorder_traversal(root.right)\n",
        "\n",
        "# Building a Tree\n",
        "root = TreeNode(10)\n",
        "root.left = TreeNode(20)\n",
        "root.right = TreeNode(30)\n",
        "root.left.left = TreeNode(40)\n",
        "\n",
        "# Traversing the Tree\n",
        "print(\"Inorder Traversal:\", end=\" \")\n",
        "inorder_traversal(root)  # Output: 40 20 10 30\n"
      ],
      "metadata": {
        "colab": {
          "base_uri": "https://localhost:8080/"
        },
        "id": "U5XlxaW0BQWY",
        "outputId": "c7a85d97-e43f-4f1b-aafa-7a86d7b2a9b6"
      },
      "execution_count": 5,
      "outputs": [
        {
          "output_type": "stream",
          "name": "stdout",
          "text": [
            "Inorder Traversal: 40 20 10 30 "
          ]
        }
      ]
    },
    {
      "cell_type": "markdown",
      "source": [
        "Graph: A set of nodes (vertices) connected by edges.\n",
        "\n",
        "Add Vertex/Edge, Remove Edge: O(1)\n",
        "\n",
        "Remove Vertex: O(n^2)\n",
        "Search: O(V^2)\n"
      ],
      "metadata": {
        "id": "mk4WfDmdJfq3"
      }
    },
    {
      "cell_type": "code",
      "source": [
        "# Graph Example (Adjacency List)\n",
        "graph = {\n",
        "    \"A\": [\"B\", \"C\"],\n",
        "    \"B\": [\"A\", \"D\"],\n",
        "    \"C\": [\"A\", \"D\"],\n",
        "    \"D\": [\"B\", \"C\"]\n",
        "}\n",
        "\n",
        "# Traverse the Graph\n",
        "def bfs(graph, start):\n",
        "    visited = set()\n",
        "    queue = [start]\n",
        "    while queue:\n",
        "        node = queue.pop(0)\n",
        "        if node not in visited:\n",
        "            print(node, end=\" \")\n",
        "            visited.add(node)\n",
        "            queue.extend(graph[node])\n",
        "            print(queue)\n",
        "\n",
        "print(\"BFS Traversal:\", end=\" \")\n",
        "bfs(graph, \"A\")  # Output: A B C D\n"
      ],
      "metadata": {
        "colab": {
          "base_uri": "https://localhost:8080/"
        },
        "id": "iPnHfsEvCaID",
        "outputId": "31c36b2d-c1fd-4d55-a0cf-2f703f6e8501"
      },
      "execution_count": 7,
      "outputs": [
        {
          "output_type": "stream",
          "name": "stdout",
          "text": [
            "BFS Traversal: A ['B', 'C']\n",
            "B ['C', 'A', 'D']\n",
            "C ['A', 'D', 'A', 'D']\n",
            "D ['A', 'D', 'B', 'C']\n"
          ]
        }
      ]
    },
    {
      "cell_type": "markdown",
      "source": [
        "#Hash-Based Structures\n",
        "Use a hash function to map data to a specific location for fast access.\n",
        "\n",
        "All: O(1)"
      ],
      "metadata": {
        "id": "er76qjLzJg0Y"
      }
    },
    {
      "cell_type": "code",
      "source": [
        "# Hash Table Example\n",
        "hash_table = {}\n",
        "hash_table[\"ID1\"] = 100\n",
        "hash_table[\"ID2\"] = 200\n",
        "print(\"Hash Table:\", hash_table)\n",
        "\n",
        "# Access\n",
        "print(\"Value for ID1:\", hash_table[\"ID1\"])\n",
        "\n",
        "# Modify\n",
        "hash_table[\"ID1\"] = 150\n",
        "print(\"Modified Hash Table:\", hash_table)\n",
        "\n",
        "# Delete\n",
        "del hash_table[\"ID2\"]\n",
        "print(\"After Deletion:\", hash_table)\n"
      ],
      "metadata": {
        "colab": {
          "base_uri": "https://localhost:8080/"
        },
        "id": "VCkp4pKaDlHa",
        "outputId": "60676da6-4b24-4232-8144-01bc2e40fce5"
      },
      "execution_count": 8,
      "outputs": [
        {
          "output_type": "stream",
          "name": "stdout",
          "text": [
            "Hash Table: {'ID1': 100, 'ID2': 200}\n",
            "Value for ID1: 100\n",
            "Modified Hash Table: {'ID1': 150, 'ID2': 200}\n",
            "After Deletion: {'ID1': 150}\n"
          ]
        }
      ]
    }
  ]
}